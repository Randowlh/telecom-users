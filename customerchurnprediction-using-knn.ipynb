{
 "cells": [
  {
   "cell_type": "code",
   "execution_count": 380,
   "id": "2a26c925",
   "metadata": {
    "_cell_guid": "b1076dfc-b9ad-4769-8c92-a6c4dae69d19",
    "_uuid": "8f2839f25d086af736a60e9eeb907d3b93b6e0e5",
    "execution": {
     "iopub.execute_input": "2021-09-27T05:35:03.627305Z",
     "iopub.status.busy": "2021-09-27T05:35:03.624940Z",
     "iopub.status.idle": "2021-09-27T05:35:03.643710Z",
     "shell.execute_reply": "2021-09-27T05:35:03.644347Z",
     "shell.execute_reply.started": "2021-09-27T05:28:11.704940Z"
    },
    "papermill": {
     "duration": 0.09564,
     "end_time": "2021-09-27T05:35:03.644727",
     "exception": false,
     "start_time": "2021-09-27T05:35:03.549087",
     "status": "completed"
    },
    "tags": []
   },
   "outputs": [],
   "source": [
    "# This Python 3 environment comes with many helpful analytics libraries installed\n",
    "# It is defined by the kaggle/python Docker image: https://github.com/kaggle/docker-python\n",
    "# For example, here's several helpful packages to load\n",
    "\n",
    "\n",
    "\n",
    "# Input data files are available in the read-only \"../input/\" directory\n",
    "# For example, running this (by clicking run or pressing Shift+Enter) will list all files under the input directory\n",
    "\n",
    "import os\n",
    "for dirname, _, filenames in os.walk('/kaggle/input'):\n",
    "    for filename in filenames:\n",
    "        print(os.path.join(dirname, filename))\n",
    "\n",
    "# You can write up to 20GB to the current directory (/kaggle/working/) that gets preserved as output when you create a version using \"Save & Run All\" \n",
    "# You can also write temporary files to /kaggle/temp/, but they won't be saved outside of the current session"
   ]
  },
  {
   "cell_type": "markdown",
   "id": "53b16b0b",
   "metadata": {
    "papermill": {
     "duration": 0.046163,
     "end_time": "2021-09-27T05:35:03.739995",
     "exception": false,
     "start_time": "2021-09-27T05:35:03.693832",
     "status": "completed"
    },
    "tags": []
   },
   "source": [
    "## Telecom Customer Churn:\n",
    "     Predict behavior to retain customers. You can analyze all relevant customer data and develop focused customer retention programs.\n",
    "\n",
    "#### Content:\n",
    "     Each row represents a customer, each column contains customer’s attributes described on the column Metadata.\n",
    "\n",
    "#### The data set includes information about:\n",
    "\n",
    "   * Customers who left within the last month – the column is called Churn\n",
    "   * Services that each customer has signed up for – phone, multiple lines, internet, online        * security, online backup, device protection, tech support, and streaming TV and movies\n",
    "   * Customer account information – how long they’ve been a customer, contract, payment method, \n",
    "   * paperless billing, monthly charges, and total charges\n",
    "   * Demographic info about customers – gender, age range, and if they have partners and dependents\n",
    "   * Churn - dependent feature ('Yes' denotes customers left, 'No' denotes customer stay here)"
   ]
  },
  {
   "cell_type": "code",
   "execution_count": 381,
   "id": "b2abb537",
   "metadata": {
    "execution": {
     "iopub.execute_input": "2021-09-27T05:35:03.851689Z",
     "iopub.status.busy": "2021-09-27T05:35:03.850881Z",
     "iopub.status.idle": "2021-09-27T05:35:05.595396Z",
     "shell.execute_reply": "2021-09-27T05:35:05.594587Z",
     "shell.execute_reply.started": "2021-09-27T05:28:11.737432Z"
    },
    "papermill": {
     "duration": 1.804705,
     "end_time": "2021-09-27T05:35:05.595570",
     "exception": false,
     "start_time": "2021-09-27T05:35:03.790865",
     "status": "completed"
    },
    "tags": []
   },
   "outputs": [],
   "source": [
    "# Importing neccessary packages\n",
    "import numpy as np \n",
    "import pandas as pd\n",
    "import matplotlib.pyplot as plt\n",
    "%matplotlib inline\n",
    "import seaborn as sns\n",
    "import scipy.stats as stats\n",
    "from sklearn.preprocessing import LabelEncoder, MinMaxScaler\n",
    "from sklearn.model_selection import train_test_split, cross_val_score\n",
    "from sklearn.metrics import recall_score, accuracy_score, classification_report, confusion_matrix\n",
    "from sklearn.linear_model import LogisticRegression\n",
    "from sklearn.neighbors import KNeighborsClassifier\n",
    "from sklearn.ensemble import RandomForestClassifier, GradientBoostingClassifier, AdaBoostClassifier\n",
    "from sklearn.tree import DecisionTreeClassifier\n",
    "from imblearn.combine import SMOTEENN\n",
    "from sklearn.feature_selection import SelectKBest\n",
    "from collections import Counter\n",
    "\n",
    "\n",
    "# ignore warning\n",
    "import warnings\n",
    "warnings.filterwarnings('ignore')\n",
    "import matplotlib.ticker as mtick # for showing percentage in it"
   ]
  },
  {
   "cell_type": "code",
   "execution_count": 382,
   "id": "9b47123c",
   "metadata": {
    "execution": {
     "iopub.execute_input": "2021-09-27T05:35:05.696917Z",
     "iopub.status.busy": "2021-09-27T05:35:05.695852Z",
     "iopub.status.idle": "2021-09-27T05:35:05.787581Z",
     "shell.execute_reply": "2021-09-27T05:35:05.788097Z",
     "shell.execute_reply.started": "2021-09-27T05:28:13.021414Z"
    },
    "papermill": {
     "duration": 0.146199,
     "end_time": "2021-09-27T05:35:05.788291",
     "exception": false,
     "start_time": "2021-09-27T05:35:05.642092",
     "status": "completed"
    },
    "tags": []
   },
   "outputs": [
    {
     "data": {
      "text/html": [
       "<div>\n",
       "<style scoped>\n",
       "    .dataframe tbody tr th:only-of-type {\n",
       "        vertical-align: middle;\n",
       "    }\n",
       "\n",
       "    .dataframe tbody tr th {\n",
       "        vertical-align: top;\n",
       "    }\n",
       "\n",
       "    .dataframe thead th {\n",
       "        text-align: right;\n",
       "    }\n",
       "</style>\n",
       "<table border=\"1\" class=\"dataframe\">\n",
       "  <thead>\n",
       "    <tr style=\"text-align: right;\">\n",
       "      <th></th>\n",
       "      <th>customerID</th>\n",
       "      <th>gender</th>\n",
       "      <th>SeniorCitizen</th>\n",
       "      <th>Partner</th>\n",
       "      <th>Dependents</th>\n",
       "      <th>tenure</th>\n",
       "      <th>PhoneService</th>\n",
       "      <th>MultipleLines</th>\n",
       "      <th>InternetService</th>\n",
       "      <th>OnlineSecurity</th>\n",
       "      <th>...</th>\n",
       "      <th>DeviceProtection</th>\n",
       "      <th>TechSupport</th>\n",
       "      <th>StreamingTV</th>\n",
       "      <th>StreamingMovies</th>\n",
       "      <th>Contract</th>\n",
       "      <th>PaperlessBilling</th>\n",
       "      <th>PaymentMethod</th>\n",
       "      <th>MonthlyCharges</th>\n",
       "      <th>TotalCharges</th>\n",
       "      <th>Churn</th>\n",
       "    </tr>\n",
       "  </thead>\n",
       "  <tbody>\n",
       "    <tr>\n",
       "      <th>0</th>\n",
       "      <td>7590-VHVEG</td>\n",
       "      <td>Female</td>\n",
       "      <td>0</td>\n",
       "      <td>Yes</td>\n",
       "      <td>No</td>\n",
       "      <td>1</td>\n",
       "      <td>No</td>\n",
       "      <td>No phone service</td>\n",
       "      <td>DSL</td>\n",
       "      <td>No</td>\n",
       "      <td>...</td>\n",
       "      <td>No</td>\n",
       "      <td>No</td>\n",
       "      <td>No</td>\n",
       "      <td>No</td>\n",
       "      <td>Month-to-month</td>\n",
       "      <td>Yes</td>\n",
       "      <td>Electronic check</td>\n",
       "      <td>29.85</td>\n",
       "      <td>29.85</td>\n",
       "      <td>No</td>\n",
       "    </tr>\n",
       "    <tr>\n",
       "      <th>1</th>\n",
       "      <td>5575-GNVDE</td>\n",
       "      <td>Male</td>\n",
       "      <td>0</td>\n",
       "      <td>No</td>\n",
       "      <td>No</td>\n",
       "      <td>34</td>\n",
       "      <td>Yes</td>\n",
       "      <td>No</td>\n",
       "      <td>DSL</td>\n",
       "      <td>Yes</td>\n",
       "      <td>...</td>\n",
       "      <td>Yes</td>\n",
       "      <td>No</td>\n",
       "      <td>No</td>\n",
       "      <td>No</td>\n",
       "      <td>One year</td>\n",
       "      <td>No</td>\n",
       "      <td>Mailed check</td>\n",
       "      <td>56.95</td>\n",
       "      <td>1889.5</td>\n",
       "      <td>No</td>\n",
       "    </tr>\n",
       "    <tr>\n",
       "      <th>2</th>\n",
       "      <td>3668-QPYBK</td>\n",
       "      <td>Male</td>\n",
       "      <td>0</td>\n",
       "      <td>No</td>\n",
       "      <td>No</td>\n",
       "      <td>2</td>\n",
       "      <td>Yes</td>\n",
       "      <td>No</td>\n",
       "      <td>DSL</td>\n",
       "      <td>Yes</td>\n",
       "      <td>...</td>\n",
       "      <td>No</td>\n",
       "      <td>No</td>\n",
       "      <td>No</td>\n",
       "      <td>No</td>\n",
       "      <td>Month-to-month</td>\n",
       "      <td>Yes</td>\n",
       "      <td>Mailed check</td>\n",
       "      <td>53.85</td>\n",
       "      <td>108.15</td>\n",
       "      <td>Yes</td>\n",
       "    </tr>\n",
       "    <tr>\n",
       "      <th>3</th>\n",
       "      <td>7795-CFOCW</td>\n",
       "      <td>Male</td>\n",
       "      <td>0</td>\n",
       "      <td>No</td>\n",
       "      <td>No</td>\n",
       "      <td>45</td>\n",
       "      <td>No</td>\n",
       "      <td>No phone service</td>\n",
       "      <td>DSL</td>\n",
       "      <td>Yes</td>\n",
       "      <td>...</td>\n",
       "      <td>Yes</td>\n",
       "      <td>Yes</td>\n",
       "      <td>No</td>\n",
       "      <td>No</td>\n",
       "      <td>One year</td>\n",
       "      <td>No</td>\n",
       "      <td>Bank transfer (automatic)</td>\n",
       "      <td>42.30</td>\n",
       "      <td>1840.75</td>\n",
       "      <td>No</td>\n",
       "    </tr>\n",
       "    <tr>\n",
       "      <th>4</th>\n",
       "      <td>9237-HQITU</td>\n",
       "      <td>Female</td>\n",
       "      <td>0</td>\n",
       "      <td>No</td>\n",
       "      <td>No</td>\n",
       "      <td>2</td>\n",
       "      <td>Yes</td>\n",
       "      <td>No</td>\n",
       "      <td>Fiber optic</td>\n",
       "      <td>No</td>\n",
       "      <td>...</td>\n",
       "      <td>No</td>\n",
       "      <td>No</td>\n",
       "      <td>No</td>\n",
       "      <td>No</td>\n",
       "      <td>Month-to-month</td>\n",
       "      <td>Yes</td>\n",
       "      <td>Electronic check</td>\n",
       "      <td>70.70</td>\n",
       "      <td>151.65</td>\n",
       "      <td>Yes</td>\n",
       "    </tr>\n",
       "  </tbody>\n",
       "</table>\n",
       "<p>5 rows × 21 columns</p>\n",
       "</div>"
      ],
      "text/plain": [
       "   customerID  gender  SeniorCitizen Partner Dependents  tenure PhoneService  \\\n",
       "0  7590-VHVEG  Female              0     Yes         No       1           No   \n",
       "1  5575-GNVDE    Male              0      No         No      34          Yes   \n",
       "2  3668-QPYBK    Male              0      No         No       2          Yes   \n",
       "3  7795-CFOCW    Male              0      No         No      45           No   \n",
       "4  9237-HQITU  Female              0      No         No       2          Yes   \n",
       "\n",
       "      MultipleLines InternetService OnlineSecurity  ... DeviceProtection  \\\n",
       "0  No phone service             DSL             No  ...               No   \n",
       "1                No             DSL            Yes  ...              Yes   \n",
       "2                No             DSL            Yes  ...               No   \n",
       "3  No phone service             DSL            Yes  ...              Yes   \n",
       "4                No     Fiber optic             No  ...               No   \n",
       "\n",
       "  TechSupport StreamingTV StreamingMovies        Contract PaperlessBilling  \\\n",
       "0          No          No              No  Month-to-month              Yes   \n",
       "1          No          No              No        One year               No   \n",
       "2          No          No              No  Month-to-month              Yes   \n",
       "3         Yes          No              No        One year               No   \n",
       "4          No          No              No  Month-to-month              Yes   \n",
       "\n",
       "               PaymentMethod MonthlyCharges  TotalCharges Churn  \n",
       "0           Electronic check          29.85         29.85    No  \n",
       "1               Mailed check          56.95        1889.5    No  \n",
       "2               Mailed check          53.85        108.15   Yes  \n",
       "3  Bank transfer (automatic)          42.30       1840.75    No  \n",
       "4           Electronic check          70.70        151.65   Yes  \n",
       "\n",
       "[5 rows x 21 columns]"
      ]
     },
     "execution_count": 382,
     "metadata": {},
     "output_type": "execute_result"
    }
   ],
   "source": [
    "data = pd.read_csv('data.csv')\n",
    "data.head()"
   ]
  },
  {
   "cell_type": "code",
   "execution_count": 383,
   "id": "0a18f2a9",
   "metadata": {
    "execution": {
     "iopub.execute_input": "2021-09-27T05:35:05.895763Z",
     "iopub.status.busy": "2021-09-27T05:35:05.894898Z",
     "iopub.status.idle": "2021-09-27T05:35:05.899061Z",
     "shell.execute_reply": "2021-09-27T05:35:05.898496Z",
     "shell.execute_reply.started": "2021-09-27T05:28:13.110724Z"
    },
    "papermill": {
     "duration": 0.064276,
     "end_time": "2021-09-27T05:35:05.899242",
     "exception": false,
     "start_time": "2021-09-27T05:35:05.834966",
     "status": "completed"
    },
    "tags": []
   },
   "outputs": [
    {
     "data": {
      "text/plain": [
       "customerID           object\n",
       "gender               object\n",
       "SeniorCitizen         int64\n",
       "Partner              object\n",
       "Dependents           object\n",
       "tenure                int64\n",
       "PhoneService         object\n",
       "MultipleLines        object\n",
       "InternetService      object\n",
       "OnlineSecurity       object\n",
       "OnlineBackup         object\n",
       "DeviceProtection     object\n",
       "TechSupport          object\n",
       "StreamingTV          object\n",
       "StreamingMovies      object\n",
       "Contract             object\n",
       "PaperlessBilling     object\n",
       "PaymentMethod        object\n",
       "MonthlyCharges      float64\n",
       "TotalCharges         object\n",
       "Churn                object\n",
       "dtype: object"
      ]
     },
     "execution_count": 383,
     "metadata": {},
     "output_type": "execute_result"
    }
   ],
   "source": [
    "# Features types\n",
    "data.dtypes"
   ]
  },
  {
   "cell_type": "markdown",
   "id": "c9f8ce0c",
   "metadata": {
    "papermill": {
     "duration": 0.047074,
     "end_time": "2021-09-27T05:35:05.992808",
     "exception": false,
     "start_time": "2021-09-27T05:35:05.945734",
     "status": "completed"
    },
    "tags": []
   },
   "source": [
    "#### **From analysis the dataset, we notice that some of the independent features are in numerical and most of feature are in categorical feature. Seperate into numerical and categorical data for EDA parts**"
   ]
  },
  {
   "cell_type": "code",
   "execution_count": 384,
   "id": "1e21e991",
   "metadata": {
    "execution": {
     "iopub.execute_input": "2021-09-27T05:35:06.106672Z",
     "iopub.status.busy": "2021-09-27T05:35:06.103727Z",
     "iopub.status.idle": "2021-09-27T05:35:06.111103Z",
     "shell.execute_reply": "2021-09-27T05:35:06.110489Z",
     "shell.execute_reply.started": "2021-09-27T05:28:13.120209Z"
    },
    "papermill": {
     "duration": 0.068982,
     "end_time": "2021-09-27T05:35:06.111268",
     "exception": false,
     "start_time": "2021-09-27T05:35:06.042286",
     "status": "completed"
    },
    "tags": []
   },
   "outputs": [],
   "source": [
    "# Total charges are in object dtype so convert into Numerical feature \n",
    "data['TotalCharges'] = pd.to_numeric(data['TotalCharges'], errors='coerce')"
   ]
  },
  {
   "cell_type": "markdown",
   "id": "5a56d94f",
   "metadata": {
    "papermill": {
     "duration": 0.047587,
     "end_time": "2021-09-27T05:35:06.205528",
     "exception": false,
     "start_time": "2021-09-27T05:35:06.157941",
     "status": "completed"
    },
    "tags": []
   },
   "source": [
    "#### Separate into Numerical and Categorical feature"
   ]
  },
  {
   "cell_type": "code",
   "execution_count": 385,
   "id": "33f9369e",
   "metadata": {
    "execution": {
     "iopub.execute_input": "2021-09-27T05:35:06.301591Z",
     "iopub.status.busy": "2021-09-27T05:35:06.300834Z",
     "iopub.status.idle": "2021-09-27T05:35:06.309936Z",
     "shell.execute_reply": "2021-09-27T05:35:06.308759Z",
     "shell.execute_reply.started": "2021-09-27T05:28:13.141834Z"
    },
    "papermill": {
     "duration": 0.058329,
     "end_time": "2021-09-27T05:35:06.310244",
     "exception": false,
     "start_time": "2021-09-27T05:35:06.251915",
     "status": "completed"
    },
    "tags": []
   },
   "outputs": [
    {
     "name": "stdout",
     "output_type": "stream",
     "text": [
      "Count of Numerical feature: 4\n",
      "Numerical feature are:\n",
      " {'MonthlyCharges', 'TotalCharges', 'tenure', 'SeniorCitizen'}\n"
     ]
    }
   ],
   "source": [
    "# numerical feature\n",
    "numerical_feature = {feature for feature in data.columns if data[feature].dtypes != 'O'}\n",
    "print(f'Count of Numerical feature: {len(numerical_feature)}')\n",
    "print(f'Numerical feature are:\\n {numerical_feature}')"
   ]
  },
  {
   "cell_type": "code",
   "execution_count": 386,
   "id": "c6075714",
   "metadata": {
    "execution": {
     "iopub.execute_input": "2021-09-27T05:35:06.411377Z",
     "iopub.status.busy": "2021-09-27T05:35:06.410589Z",
     "iopub.status.idle": "2021-09-27T05:35:06.413718Z",
     "shell.execute_reply": "2021-09-27T05:35:06.414325Z",
     "shell.execute_reply.started": "2021-09-27T05:28:13.151721Z"
    },
    "papermill": {
     "duration": 0.055064,
     "end_time": "2021-09-27T05:35:06.414498",
     "exception": false,
     "start_time": "2021-09-27T05:35:06.359434",
     "status": "completed"
    },
    "tags": []
   },
   "outputs": [
    {
     "name": "stdout",
     "output_type": "stream",
     "text": [
      "Count of Categorical feature: 17\n",
      "Categorical feature are:\n",
      " {'InternetService', 'Partner', 'gender', 'DeviceProtection', 'TechSupport', 'PaperlessBilling', 'OnlineSecurity', 'customerID', 'StreamingMovies', 'Contract', 'Dependents', 'PhoneService', 'StreamingTV', 'PaymentMethod', 'MultipleLines', 'OnlineBackup', 'Churn'}\n"
     ]
    }
   ],
   "source": [
    "# Categorical feature\n",
    "categorical_feature = {feature for feature in data.columns if data[feature].dtypes == 'O'}\n",
    "print(f'Count of Categorical feature: {len(categorical_feature)}')\n",
    "print(f'Categorical feature are:\\n {categorical_feature}')\n"
   ]
  },
  {
   "cell_type": "markdown",
   "id": "c164460b",
   "metadata": {
    "papermill": {
     "duration": 0.048886,
     "end_time": "2021-09-27T05:35:06.512441",
     "exception": false,
     "start_time": "2021-09-27T05:35:06.463555",
     "status": "completed"
    },
    "tags": []
   },
   "source": [
    "#### EDA"
   ]
  },
  {
   "cell_type": "code",
   "execution_count": 387,
   "id": "60d4c7b1",
   "metadata": {
    "execution": {
     "iopub.execute_input": "2021-09-27T05:35:06.627245Z",
     "iopub.status.busy": "2021-09-27T05:35:06.622505Z",
     "iopub.status.idle": "2021-09-27T05:35:06.839497Z",
     "shell.execute_reply": "2021-09-27T05:35:06.838941Z",
     "shell.execute_reply.started": "2021-09-27T05:28:13.161059Z"
    },
    "papermill": {
     "duration": 0.282347,
     "end_time": "2021-09-27T05:35:06.839657",
     "exception": false,
     "start_time": "2021-09-27T05:35:06.557310",
     "status": "completed"
    },
    "tags": []
   },
   "outputs": [
    {
     "data": {
      "image/png": "[encoded data removed]",
      "text/plain": [
       "<Figure size 432x288 with 1 Axes>"
      ]
     },
     "metadata": {
      "needs_background": "light"
     },
     "output_type": "display_data"
    }
   ],
   "source": [
    "# plotting with target feature\n",
    "sns.countplot(data=data, x='Churn')\n",
    "plt.title('Count of Churn')\n",
    "plt.show()"
   ]
  },
  {
   "cell_type": "code",
   "execution_count": 388,
   "id": "cc89b8e1",
   "metadata": {
    "execution": {
     "iopub.execute_input": "2021-09-27T05:35:06.940337Z",
     "iopub.status.busy": "2021-09-27T05:35:06.938880Z",
     "iopub.status.idle": "2021-09-27T05:35:06.956836Z",
     "shell.execute_reply": "2021-09-27T05:35:06.956142Z",
     "shell.execute_reply.started": "2021-09-27T05:28:13.433407Z"
    },
    "papermill": {
     "duration": 0.071153,
     "end_time": "2021-09-27T05:35:06.956990",
     "exception": false,
     "start_time": "2021-09-27T05:35:06.885837",
     "status": "completed"
    },
    "tags": []
   },
   "outputs": [
    {
     "name": "stdout",
     "output_type": "stream",
     "text": [
      "Pecentage of Left: 0.2653698707936959\n",
      "No     5174\n",
      "Yes    1869\n",
      "Name: Churn, dtype: int64\n"
     ]
    }
   ],
   "source": [
    "l1 = data.loc[data['Churn']== 'Yes'].count()[0]\n",
    "print(f\"Pecentage of Left: {l1/len(data['Churn'])}\")\n",
    "print(data.Churn.value_counts())"
   ]
  },
  {
   "cell_type": "markdown",
   "id": "7b8c5e37",
   "metadata": {
    "papermill": {
     "duration": 0.05062,
     "end_time": "2021-09-27T05:35:07.056328",
     "exception": false,
     "start_time": "2021-09-27T05:35:07.005708",
     "status": "completed"
    },
    "tags": []
   },
   "source": [
    "**1869 of customer are left about 26.5 percentage from overall, this like an imbalance dataset**"
   ]
  },
  {
   "cell_type": "code",
   "execution_count": 389,
   "id": "e03fecf9",
   "metadata": {
    "execution": {
     "iopub.execute_input": "2021-09-27T05:35:07.164480Z",
     "iopub.status.busy": "2021-09-27T05:35:07.163437Z",
     "iopub.status.idle": "2021-09-27T05:35:07.169599Z",
     "shell.execute_reply": "2021-09-27T05:35:07.170431Z",
     "shell.execute_reply.started": "2021-09-27T05:28:13.454792Z"
    },
    "papermill": {
     "duration": 0.064758,
     "end_time": "2021-09-27T05:35:07.170684",
     "exception": false,
     "start_time": "2021-09-27T05:35:07.105926",
     "status": "completed"
    },
    "tags": []
   },
   "outputs": [
    {
     "name": "stdout",
     "output_type": "stream",
     "text": [
      "2862927.0\n"
     ]
    }
   ],
   "source": [
    "### How many amount loss from customer churn\n",
    "loss = []\n",
    "for values in data.loc[data['Churn'] == 'Yes', 'TotalCharges']:\n",
    "    value = float(values)\n",
    "    loss.append(value)\n",
    "print(np.round(sum(loss)))"
   ]
  },
  {
   "cell_type": "markdown",
   "id": "bbb62e09",
   "metadata": {
    "papermill": {
     "duration": 0.046574,
     "end_time": "2021-09-27T05:35:07.268757",
     "exception": false,
     "start_time": "2021-09-27T05:35:07.222183",
     "status": "completed"
    },
    "tags": []
   },
   "source": [
    "**We have lost arround $2862927 due to customer churn**"
   ]
  },
  {
   "cell_type": "code",
   "execution_count": 390,
   "id": "67729125",
   "metadata": {
    "execution": {
     "iopub.execute_input": "2021-09-27T05:35:07.504430Z",
     "iopub.status.busy": "2021-09-27T05:35:07.500397Z",
     "iopub.status.idle": "2021-09-27T05:35:09.228821Z",
     "shell.execute_reply": "2021-09-27T05:35:09.228209Z",
     "shell.execute_reply.started": "2021-09-27T05:28:13.465615Z"
    },
    "papermill": {
     "duration": 1.912408,
     "end_time": "2021-09-27T05:35:09.228974",
     "exception": false,
     "start_time": "2021-09-27T05:35:07.316566",
     "status": "completed"
    },
    "tags": []
   },
   "outputs": [
    {
     "data": {
      "image/png": "[encoded data removed]",
      "text/plain": [
       "<Figure size 1080x504 with 3 Axes>"
      ]
     },
     "metadata": {
      "needs_background": "light"
     },
     "output_type": "display_data"
    },
    {
     "data": {
      "image/png": "[encoded data removed]",
      "text/plain": [
       "<Figure size 1080x504 with 3 Axes>"
      ]
     },
     "metadata": {
      "needs_background": "light"
     },
     "output_type": "display_data"
    },
    {
     "data": {
      "image/png": "[encoded data removed]",
      "text/plain": [
       "<Figure size 1080x504 with 3 Axes>"
      ]
     },
     "metadata": {
      "needs_background": "light"
     },
     "output_type": "display_data"
    }
   ],
   "source": [
    "### Plotting numerical feature with probability distribution and checking outlier\n",
    "for feature in numerical_feature:\n",
    "    if feature != 'SeniorCitizen':\n",
    "        plt.figure(figsize=(15,7))\n",
    "    \n",
    "        plt.subplot(1, 3, 1)\n",
    "        sns.histplot(data=data, x=feature, bins=30, kde=True)\n",
    "        plt.title('Histogram')\n",
    "    \n",
    "        plt.subplot(1, 3, 2)\n",
    "        stats.probplot(data[feature], dist=\"norm\", plot=plt)\n",
    "        plt.ylabel('RM quantiles')\n",
    "    \n",
    "        plt.subplot(1, 3, 3)\n",
    "        sns.boxplot(x=data[feature])\n",
    "        plt.title('Boxplot')\n",
    "    \n",
    "plt.show()"
   ]
  },
  {
   "cell_type": "markdown",
   "id": "b30d7fc0",
   "metadata": {
    "papermill": {
     "duration": 0.051008,
     "end_time": "2021-09-27T05:35:09.343556",
     "exception": false,
     "start_time": "2021-09-27T05:35:09.292548",
     "status": "completed"
    },
    "tags": []
   },
   "source": [
    "##### **After ploting histogram probability distribution and box plot to find numerical value are in normally distribution and our dataset has no outlier dataset.So, we don't want to remove the outlier in our dataset**"
   ]
  },
  {
   "cell_type": "code",
   "execution_count": 391,
   "id": "2a8a936b",
   "metadata": {
    "execution": {
     "iopub.execute_input": "2021-09-27T05:35:09.450965Z",
     "iopub.status.busy": "2021-09-27T05:35:09.449960Z",
     "iopub.status.idle": "2021-09-27T05:35:14.760873Z",
     "shell.execute_reply": "2021-09-27T05:35:14.761393Z",
     "shell.execute_reply.started": "2021-09-27T05:28:15.021045Z"
    },
    "papermill": {
     "duration": 5.3673,
     "end_time": "2021-09-27T05:35:14.761571",
     "exception": false,
     "start_time": "2021-09-27T05:35:09.394271",
     "status": "completed"
    },
    "tags": []
   },
   "outputs": [
    {
     "data": {
      "image/png": "[encoded data removed]",
      "text/plain": [
       "<Figure size 592x540 with 12 Axes>"
      ]
     },
     "metadata": {
      "needs_background": "light"
     },
     "output_type": "display_data"
    }
   ],
   "source": [
    "sns.pairplot(data.drop(columns='SeniorCitizen'),hue='Churn', kind='scatter')\n",
    "plt.show()"
   ]
  },
  {
   "cell_type": "code",
   "execution_count": 392,
   "id": "93615a03",
   "metadata": {
    "execution": {
     "iopub.execute_input": "2021-09-27T05:35:14.887535Z",
     "iopub.status.busy": "2021-09-27T05:35:14.886610Z",
     "iopub.status.idle": "2021-09-27T05:35:15.182573Z",
     "shell.execute_reply": "2021-09-27T05:35:15.182035Z",
     "shell.execute_reply.started": "2021-09-27T05:28:19.963175Z"
    },
    "papermill": {
     "duration": 0.362607,
     "end_time": "2021-09-27T05:35:15.182735",
     "exception": false,
     "start_time": "2021-09-27T05:35:14.820128",
     "status": "completed"
    },
    "tags": []
   },
   "outputs": [
    {
     "data": {
      "text/plain": [
       "Text(0.5, 1.0, '% of Senior Citizens')"
      ]
     },
     "execution_count": 392,
     "metadata": {},
     "output_type": "execute_result"
    },
    {
     "data": {
      "image/png": "[encoded data removed]",
      "text/plain": [
       "<Figure size 360x360 with 1 Axes>"
      ]
     },
     "metadata": {},
     "output_type": "display_data"
    }
   ],
   "source": [
    "ax = (data['SeniorCitizen'].value_counts()*100.0 /len(data)).plot.pie(autopct='%.1f%%', labels = ['No', 'Yes'],figsize =(5,5), fontsize = 12 )                                                                           \n",
    "ax.yaxis.set_major_formatter(mtick.PercentFormatter())\n",
    "ax.set_ylabel('Senior Citizens',fontsize = 12)\n",
    "ax.set_title('% of Senior Citizens', fontsize = 12)"
   ]
  },
  {
   "cell_type": "markdown",
   "id": "fee22a21",
   "metadata": {
    "papermill": {
     "duration": 0.060863,
     "end_time": "2021-09-27T05:35:15.306789",
     "exception": false,
     "start_time": "2021-09-27T05:35:15.245926",
     "status": "completed"
    },
    "tags": []
   },
   "source": [
    "##### **Only 16.2% customers who are senior citizons but remaining 83.8% customers are young people**"
   ]
  },
  {
   "cell_type": "markdown",
   "id": "2cc2eff6",
   "metadata": {
    "papermill": {
     "duration": 0.061197,
     "end_time": "2021-09-27T05:35:15.430162",
     "exception": false,
     "start_time": "2021-09-27T05:35:15.368965",
     "status": "completed"
    },
    "tags": []
   },
   "source": [
    "#### **Univariate Analysis:**"
   ]
  },
  {
   "cell_type": "code",
   "execution_count": 393,
   "id": "d32fc8d4",
   "metadata": {
    "execution": {
     "iopub.execute_input": "2021-09-27T05:35:15.570647Z",
     "iopub.status.busy": "2021-09-27T05:35:15.569654Z",
     "iopub.status.idle": "2021-09-27T05:35:18.871774Z",
     "shell.execute_reply": "2021-09-27T05:35:18.870802Z",
     "shell.execute_reply.started": "2021-09-27T05:28:20.229901Z"
    },
    "papermill": {
     "duration": 3.380785,
     "end_time": "2021-09-27T05:35:18.871945",
     "exception": false,
     "start_time": "2021-09-27T05:35:15.491160",
     "status": "completed"
    },
    "tags": []
   },
   "outputs": [],
   "source": [
    "# for i, feature in enumerate(categorical_feature):\n",
    "#     if feature != 'TotalCharges':\n",
    "#         if feature != 'customerID':\n",
    "#             plt.figure(i)\n",
    "#             plt.figure(figsize=(12,6))\n",
    "#             sns.countplot(data=data, x=feature, hue='Churn')\n",
    "# plt.show()"
   ]
  },
  {
   "cell_type": "markdown",
   "id": "6c0136c8",
   "metadata": {
    "papermill": {
     "duration": 0.074599,
     "end_time": "2021-09-27T05:35:19.019055",
     "exception": false,
     "start_time": "2021-09-27T05:35:18.944456",
     "status": "completed"
    },
    "tags": []
   },
   "source": [
    "#### Data Cleaning"
   ]
  },
  {
   "cell_type": "code",
   "execution_count": 394,
   "id": "8dd8f11d",
   "metadata": {
    "execution": {
     "iopub.execute_input": "2021-09-27T05:35:19.184919Z",
     "iopub.status.busy": "2021-09-27T05:35:19.184175Z",
     "iopub.status.idle": "2021-09-27T05:35:19.211589Z",
     "shell.execute_reply": "2021-09-27T05:35:19.212439Z",
     "shell.execute_reply.started": "2021-09-27T05:28:23.035156Z"
    },
    "papermill": {
     "duration": 0.110209,
     "end_time": "2021-09-27T05:35:19.212750",
     "exception": false,
     "start_time": "2021-09-27T05:35:19.102541",
     "status": "completed"
    },
    "tags": []
   },
   "outputs": [
    {
     "data": {
      "text/html": [
       "<div>\n",
       "<style scoped>\n",
       "    .dataframe tbody tr th:only-of-type {\n",
       "        vertical-align: middle;\n",
       "    }\n",
       "\n",
       "    .dataframe tbody tr th {\n",
       "        vertical-align: top;\n",
       "    }\n",
       "\n",
       "    .dataframe thead th {\n",
       "        text-align: right;\n",
       "    }\n",
       "</style>\n",
       "<table border=\"1\" class=\"dataframe\">\n",
       "  <thead>\n",
       "    <tr style=\"text-align: right;\">\n",
       "      <th></th>\n",
       "      <th>customerID</th>\n",
       "      <th>gender</th>\n",
       "      <th>SeniorCitizen</th>\n",
       "      <th>Partner</th>\n",
       "      <th>Dependents</th>\n",
       "      <th>tenure</th>\n",
       "      <th>PhoneService</th>\n",
       "      <th>MultipleLines</th>\n",
       "      <th>InternetService</th>\n",
       "      <th>OnlineSecurity</th>\n",
       "      <th>...</th>\n",
       "      <th>DeviceProtection</th>\n",
       "      <th>TechSupport</th>\n",
       "      <th>StreamingTV</th>\n",
       "      <th>StreamingMovies</th>\n",
       "      <th>Contract</th>\n",
       "      <th>PaperlessBilling</th>\n",
       "      <th>PaymentMethod</th>\n",
       "      <th>MonthlyCharges</th>\n",
       "      <th>TotalCharges</th>\n",
       "      <th>Churn</th>\n",
       "    </tr>\n",
       "  </thead>\n",
       "  <tbody>\n",
       "    <tr>\n",
       "      <th>0</th>\n",
       "      <td>7590-VHVEG</td>\n",
       "      <td>Female</td>\n",
       "      <td>0</td>\n",
       "      <td>Yes</td>\n",
       "      <td>No</td>\n",
       "      <td>1</td>\n",
       "      <td>No</td>\n",
       "      <td>No phone service</td>\n",
       "      <td>DSL</td>\n",
       "      <td>No</td>\n",
       "      <td>...</td>\n",
       "      <td>No</td>\n",
       "      <td>No</td>\n",
       "      <td>No</td>\n",
       "      <td>No</td>\n",
       "      <td>Month-to-month</td>\n",
       "      <td>Yes</td>\n",
       "      <td>Electronic check</td>\n",
       "      <td>29.85</td>\n",
       "      <td>29.85</td>\n",
       "      <td>No</td>\n",
       "    </tr>\n",
       "    <tr>\n",
       "      <th>1</th>\n",
       "      <td>5575-GNVDE</td>\n",
       "      <td>Male</td>\n",
       "      <td>0</td>\n",
       "      <td>No</td>\n",
       "      <td>No</td>\n",
       "      <td>34</td>\n",
       "      <td>Yes</td>\n",
       "      <td>No</td>\n",
       "      <td>DSL</td>\n",
       "      <td>Yes</td>\n",
       "      <td>...</td>\n",
       "      <td>Yes</td>\n",
       "      <td>No</td>\n",
       "      <td>No</td>\n",
       "      <td>No</td>\n",
       "      <td>One year</td>\n",
       "      <td>No</td>\n",
       "      <td>Mailed check</td>\n",
       "      <td>56.95</td>\n",
       "      <td>1889.50</td>\n",
       "      <td>No</td>\n",
       "    </tr>\n",
       "    <tr>\n",
       "      <th>2</th>\n",
       "      <td>3668-QPYBK</td>\n",
       "      <td>Male</td>\n",
       "      <td>0</td>\n",
       "      <td>No</td>\n",
       "      <td>No</td>\n",
       "      <td>2</td>\n",
       "      <td>Yes</td>\n",
       "      <td>No</td>\n",
       "      <td>DSL</td>\n",
       "      <td>Yes</td>\n",
       "      <td>...</td>\n",
       "      <td>No</td>\n",
       "      <td>No</td>\n",
       "      <td>No</td>\n",
       "      <td>No</td>\n",
       "      <td>Month-to-month</td>\n",
       "      <td>Yes</td>\n",
       "      <td>Mailed check</td>\n",
       "      <td>53.85</td>\n",
       "      <td>108.15</td>\n",
       "      <td>Yes</td>\n",
       "    </tr>\n",
       "    <tr>\n",
       "      <th>3</th>\n",
       "      <td>7795-CFOCW</td>\n",
       "      <td>Male</td>\n",
       "      <td>0</td>\n",
       "      <td>No</td>\n",
       "      <td>No</td>\n",
       "      <td>45</td>\n",
       "      <td>No</td>\n",
       "      <td>No phone service</td>\n",
       "      <td>DSL</td>\n",
       "      <td>Yes</td>\n",
       "      <td>...</td>\n",
       "      <td>Yes</td>\n",
       "      <td>Yes</td>\n",
       "      <td>No</td>\n",
       "      <td>No</td>\n",
       "      <td>One year</td>\n",
       "      <td>No</td>\n",
       "      <td>Bank transfer (automatic)</td>\n",
       "      <td>42.30</td>\n",
       "      <td>1840.75</td>\n",
       "      <td>No</td>\n",
       "    </tr>\n",
       "    <tr>\n",
       "      <th>4</th>\n",
       "      <td>9237-HQITU</td>\n",
       "      <td>Female</td>\n",
       "      <td>0</td>\n",
       "      <td>No</td>\n",
       "      <td>No</td>\n",
       "      <td>2</td>\n",
       "      <td>Yes</td>\n",
       "      <td>No</td>\n",
       "      <td>Fiber optic</td>\n",
       "      <td>No</td>\n",
       "      <td>...</td>\n",
       "      <td>No</td>\n",
       "      <td>No</td>\n",
       "      <td>No</td>\n",
       "      <td>No</td>\n",
       "      <td>Month-to-month</td>\n",
       "      <td>Yes</td>\n",
       "      <td>Electronic check</td>\n",
       "      <td>70.70</td>\n",
       "      <td>151.65</td>\n",
       "      <td>Yes</td>\n",
       "    </tr>\n",
       "  </tbody>\n",
       "</table>\n",
       "<p>5 rows × 21 columns</p>\n",
       "</div>"
      ],
      "text/plain": [
       "   customerID  gender  SeniorCitizen Partner Dependents  tenure PhoneService  \\\n",
       "0  7590-VHVEG  Female              0     Yes         No       1           No   \n",
       "1  5575-GNVDE    Male              0      No         No      34          Yes   \n",
       "2  3668-QPYBK    Male              0      No         No       2          Yes   \n",
       "3  7795-CFOCW    Male              0      No         No      45           No   \n",
       "4  9237-HQITU  Female              0      No         No       2          Yes   \n",
       "\n",
       "      MultipleLines InternetService OnlineSecurity  ... DeviceProtection  \\\n",
       "0  No phone service             DSL             No  ...               No   \n",
       "1                No             DSL            Yes  ...              Yes   \n",
       "2                No             DSL            Yes  ...               No   \n",
       "3  No phone service             DSL            Yes  ...              Yes   \n",
       "4                No     Fiber optic             No  ...               No   \n",
       "\n",
       "  TechSupport StreamingTV StreamingMovies        Contract PaperlessBilling  \\\n",
       "0          No          No              No  Month-to-month              Yes   \n",
       "1          No          No              No        One year               No   \n",
       "2          No          No              No  Month-to-month              Yes   \n",
       "3         Yes          No              No        One year               No   \n",
       "4          No          No              No  Month-to-month              Yes   \n",
       "\n",
       "               PaymentMethod MonthlyCharges  TotalCharges  Churn  \n",
       "0           Electronic check          29.85         29.85     No  \n",
       "1               Mailed check          56.95       1889.50     No  \n",
       "2               Mailed check          53.85        108.15    Yes  \n",
       "3  Bank transfer (automatic)          42.30       1840.75     No  \n",
       "4           Electronic check          70.70        151.65    Yes  \n",
       "\n",
       "[5 rows x 21 columns]"
      ]
     },
     "execution_count": 394,
     "metadata": {},
     "output_type": "execute_result"
    }
   ],
   "source": [
    "data.head()"
   ]
  },
  {
   "cell_type": "code",
   "execution_count": 395,
   "id": "9bef06a1",
   "metadata": {
    "execution": {
     "iopub.execute_input": "2021-09-27T05:35:19.372323Z",
     "iopub.status.busy": "2021-09-27T05:35:19.371118Z",
     "iopub.status.idle": "2021-09-27T05:35:19.393929Z",
     "shell.execute_reply": "2021-09-27T05:35:19.393301Z",
     "shell.execute_reply.started": "2021-09-27T05:28:23.067370Z"
    },
    "papermill": {
     "duration": 0.101671,
     "end_time": "2021-09-27T05:35:19.394093",
     "exception": false,
     "start_time": "2021-09-27T05:35:19.292422",
     "status": "completed"
    },
    "tags": []
   },
   "outputs": [
    {
     "data": {
      "text/plain": [
       "customerID           0\n",
       "gender               0\n",
       "SeniorCitizen        0\n",
       "Partner              0\n",
       "Dependents           0\n",
       "tenure               0\n",
       "PhoneService         0\n",
       "MultipleLines        0\n",
       "InternetService      0\n",
       "OnlineSecurity       0\n",
       "OnlineBackup         0\n",
       "DeviceProtection     0\n",
       "TechSupport          0\n",
       "StreamingTV          0\n",
       "StreamingMovies      0\n",
       "Contract             0\n",
       "PaperlessBilling     0\n",
       "PaymentMethod        0\n",
       "MonthlyCharges       0\n",
       "TotalCharges        11\n",
       "Churn                0\n",
       "dtype: int64"
      ]
     },
     "execution_count": 395,
     "metadata": {},
     "output_type": "execute_result"
    }
   ],
   "source": [
    "data.isnull().sum()"
   ]
  },
  {
   "cell_type": "code",
   "execution_count": 396,
   "id": "50a4d5da",
   "metadata": {
    "execution": {
     "iopub.execute_input": "2021-09-27T05:35:19.551334Z",
     "iopub.status.busy": "2021-09-27T05:35:19.550582Z",
     "iopub.status.idle": "2021-09-27T05:35:19.555055Z",
     "shell.execute_reply": "2021-09-27T05:35:19.555583Z",
     "shell.execute_reply.started": "2021-09-27T05:28:23.092598Z"
    },
    "papermill": {
     "duration": 0.086141,
     "end_time": "2021-09-27T05:35:19.555788",
     "exception": false,
     "start_time": "2021-09-27T05:35:19.469647",
     "status": "completed"
    },
    "tags": []
   },
   "outputs": [],
   "source": [
    "# replace NaN values with mean value\n",
    "data.TotalCharges = data.TotalCharges.fillna(data.TotalCharges.mean())"
   ]
  },
  {
   "cell_type": "code",
   "execution_count": 397,
   "id": "d9c91c6b",
   "metadata": {
    "execution": {
     "iopub.execute_input": "2021-09-27T05:35:19.737088Z",
     "iopub.status.busy": "2021-09-27T05:35:19.714832Z",
     "iopub.status.idle": "2021-09-27T05:35:19.907145Z",
     "shell.execute_reply": "2021-09-27T05:35:19.907965Z",
     "shell.execute_reply.started": "2021-09-27T05:28:23.100931Z"
    },
    "papermill": {
     "duration": 0.271655,
     "end_time": "2021-09-27T05:35:19.908271",
     "exception": false,
     "start_time": "2021-09-27T05:35:19.636616",
     "status": "completed"
    },
    "tags": []
   },
   "outputs": [
    {
     "data": {
      "text/plain": [
       "<AxesSubplot:>"
      ]
     },
     "execution_count": 397,
     "metadata": {},
     "output_type": "execute_result"
    },
    {
     "data": {
      "image/png": "[encoded data removed]",
      "text/plain": [
       "<Figure size 432x288 with 1 Axes>"
      ]
     },
     "metadata": {
      "needs_background": "light"
     },
     "output_type": "display_data"
    }
   ],
   "source": [
    "data.TotalCharges.hist()"
   ]
  },
  {
   "cell_type": "markdown",
   "id": "cba7d6b9",
   "metadata": {
    "papermill": {
     "duration": 0.080233,
     "end_time": "2021-09-27T05:35:20.063550",
     "exception": false,
     "start_time": "2021-09-27T05:35:19.983317",
     "status": "completed"
    },
    "tags": []
   },
   "source": [
    "##### **In this dataset there is no null values, so we dont want to perform Handling missing values. Only perform the Feature Encoding techiniques to convert the categorical feature into numerical feature**"
   ]
  },
  {
   "cell_type": "code",
   "execution_count": 398,
   "id": "e17f3b78",
   "metadata": {
    "execution": {
     "iopub.execute_input": "2021-09-27T05:35:20.220465Z",
     "iopub.status.busy": "2021-09-27T05:35:20.219753Z",
     "iopub.status.idle": "2021-09-27T05:35:20.227439Z",
     "shell.execute_reply": "2021-09-27T05:35:20.226874Z",
     "shell.execute_reply.started": "2021-09-27T05:28:23.279549Z"
    },
    "papermill": {
     "duration": 0.087783,
     "end_time": "2021-09-27T05:35:20.227597",
     "exception": false,
     "start_time": "2021-09-27T05:35:20.139814",
     "status": "completed"
    },
    "tags": []
   },
   "outputs": [
    {
     "name": "stdout",
     "output_type": "stream",
     "text": [
      "{'InternetService', 'Partner', 'gender', 'DeviceProtection', 'TechSupport', 'PaperlessBilling', 'OnlineSecurity', 'customerID', 'StreamingMovies', 'Contract', 'Dependents', 'PhoneService', 'StreamingTV', 'PaymentMethod', 'MultipleLines', 'OnlineBackup', 'Churn'}\n",
      "      customerID  gender  SeniorCitizen Partner Dependents  tenure  \\\n",
      "0     7590-VHVEG  Female              0     Yes         No       1   \n",
      "1     5575-GNVDE    Male              0      No         No      34   \n",
      "2     3668-QPYBK    Male              0      No         No       2   \n",
      "3     7795-CFOCW    Male              0      No         No      45   \n",
      "4     9237-HQITU  Female              0      No         No       2   \n",
      "...          ...     ...            ...     ...        ...     ...   \n",
      "7038  6840-RESVB    Male              0     Yes        Yes      24   \n",
      "7039  2234-XADUH  Female              0     Yes        Yes      72   \n",
      "7040  4801-JZAZL  Female              0     Yes        Yes      11   \n",
      "7041  8361-LTMKD    Male              1     Yes         No       4   \n",
      "7042  3186-AJIEK    Male              0      No         No      66   \n",
      "\n",
      "     PhoneService     MultipleLines InternetService OnlineSecurity  ...  \\\n",
      "0              No  No phone service             DSL             No  ...   \n",
      "1             Yes                No             DSL            Yes  ...   \n",
      "2             Yes                No             DSL            Yes  ...   \n",
      "3              No  No phone service             DSL            Yes  ...   \n",
      "4             Yes                No     Fiber optic             No  ...   \n",
      "...           ...               ...             ...            ...  ...   \n",
      "7038          Yes               Yes             DSL            Yes  ...   \n",
      "7039          Yes               Yes     Fiber optic             No  ...   \n",
      "7040           No  No phone service             DSL            Yes  ...   \n",
      "7041          Yes               Yes     Fiber optic             No  ...   \n",
      "7042          Yes                No     Fiber optic            Yes  ...   \n",
      "\n",
      "     DeviceProtection TechSupport StreamingTV StreamingMovies        Contract  \\\n",
      "0                  No          No          No              No  Month-to-month   \n",
      "1                 Yes          No          No              No        One year   \n",
      "2                  No          No          No              No  Month-to-month   \n",
      "3                 Yes         Yes          No              No        One year   \n",
      "4                  No          No          No              No  Month-to-month   \n",
      "...               ...         ...         ...             ...             ...   \n",
      "7038              Yes         Yes         Yes             Yes        One year   \n",
      "7039              Yes          No         Yes             Yes        One year   \n",
      "7040               No          No          No              No  Month-to-month   \n",
      "7041               No          No          No              No  Month-to-month   \n",
      "7042              Yes         Yes         Yes             Yes        Two year   \n",
      "\n",
      "     PaperlessBilling              PaymentMethod MonthlyCharges  TotalCharges  \\\n",
      "0                 Yes           Electronic check          29.85         29.85   \n",
      "1                  No               Mailed check          56.95       1889.50   \n",
      "2                 Yes               Mailed check          53.85        108.15   \n",
      "3                  No  Bank transfer (automatic)          42.30       1840.75   \n",
      "4                 Yes           Electronic check          70.70        151.65   \n",
      "...               ...                        ...            ...           ...   \n",
      "7038              Yes               Mailed check          84.80       1990.50   \n",
      "7039              Yes    Credit card (automatic)         103.20       7362.90   \n",
      "7040              Yes           Electronic check          29.60        346.45   \n",
      "7041              Yes               Mailed check          74.40        306.60   \n",
      "7042              Yes  Bank transfer (automatic)         105.65       6844.50   \n",
      "\n",
      "      Churn  \n",
      "0        No  \n",
      "1        No  \n",
      "2       Yes  \n",
      "3        No  \n",
      "4       Yes  \n",
      "...     ...  \n",
      "7038     No  \n",
      "7039     No  \n",
      "7040     No  \n",
      "7041    Yes  \n",
      "7042     No  \n",
      "\n",
      "[7043 rows x 21 columns]\n"
     ]
    }
   ],
   "source": [
    "print(categorical_feature)\n",
    "print(data);"
   ]
  },
  {
   "cell_type": "code",
   "execution_count": 399,
   "id": "a1adc582",
   "metadata": {
    "execution": {
     "iopub.execute_input": "2021-09-27T05:35:20.404167Z",
     "iopub.status.busy": "2021-09-27T05:35:20.403495Z",
     "iopub.status.idle": "2021-09-27T05:35:20.458988Z",
     "shell.execute_reply": "2021-09-27T05:35:20.458422Z",
     "shell.execute_reply.started": "2021-09-27T05:28:23.285835Z"
    },
    "papermill": {
     "duration": 0.150986,
     "end_time": "2021-09-27T05:35:20.459146",
     "exception": false,
     "start_time": "2021-09-27T05:35:20.308160",
     "status": "completed"
    },
    "tags": []
   },
   "outputs": [
    {
     "name": "stdout",
     "output_type": "stream",
     "text": [
      "      customerID  gender  SeniorCitizen  Partner  Dependents  tenure  \\\n",
      "0           5375       0              0        1           0       1   \n",
      "1           3962       1              0        0           0      34   \n",
      "2           2564       1              0        0           0       2   \n",
      "3           5535       1              0        0           0      45   \n",
      "4           6511       0              0        0           0       2   \n",
      "...          ...     ...            ...      ...         ...     ...   \n",
      "7038        4853       1              0        1           1      24   \n",
      "7039        1525       0              0        1           1      72   \n",
      "7040        3367       0              0        1           1      11   \n",
      "7041        5934       1              1        1           0       4   \n",
      "7042        2226       1              0        0           0      66   \n",
      "\n",
      "      PhoneService  MultipleLines  InternetService  OnlineSecurity  ...  \\\n",
      "0                0              1                0               0  ...   \n",
      "1                1              0                0               2  ...   \n",
      "2                1              0                0               2  ...   \n",
      "3                0              1                0               2  ...   \n",
      "4                1              0                1               0  ...   \n",
      "...            ...            ...              ...             ...  ...   \n",
      "7038             1              2                0               2  ...   \n",
      "7039             1              2                1               0  ...   \n",
      "7040             0              1                0               2  ...   \n",
      "7041             1              2                1               0  ...   \n",
      "7042             1              0                1               2  ...   \n",
      "\n",
      "      DeviceProtection  TechSupport  StreamingTV  StreamingMovies  Contract  \\\n",
      "0                    0            0            0                0         0   \n",
      "1                    2            0            0                0         1   \n",
      "2                    0            0            0                0         0   \n",
      "3                    2            2            0                0         1   \n",
      "4                    0            0            0                0         0   \n",
      "...                ...          ...          ...              ...       ...   \n",
      "7038                 2            2            2                2         1   \n",
      "7039                 2            0            2                2         1   \n",
      "7040                 0            0            0                0         0   \n",
      "7041                 0            0            0                0         0   \n",
      "7042                 2            2            2                2         2   \n",
      "\n",
      "      PaperlessBilling  PaymentMethod  MonthlyCharges  TotalCharges  Churn  \n",
      "0                    1              2           29.85         29.85      0  \n",
      "1                    0              3           56.95       1889.50      0  \n",
      "2                    1              3           53.85        108.15      1  \n",
      "3                    0              0           42.30       1840.75      0  \n",
      "4                    1              2           70.70        151.65      1  \n",
      "...                ...            ...             ...           ...    ...  \n",
      "7038                 1              3           84.80       1990.50      0  \n",
      "7039                 1              1          103.20       7362.90      0  \n",
      "7040                 1              2           29.60        346.45      0  \n",
      "7041                 1              3           74.40        306.60      1  \n",
      "7042                 1              0          105.65       6844.50      0  \n",
      "\n",
      "[7043 rows x 21 columns]\n"
     ]
    }
   ],
   "source": [
    "encoder = LabelEncoder()\n",
    "for feature in categorical_feature:\n",
    "    data[feature] = encoder.fit_transform(data[feature])\n",
    "print(data);"
   ]
  },
  {
   "cell_type": "code",
   "execution_count": 400,
   "id": "f3d414a9",
   "metadata": {
    "execution": {
     "iopub.execute_input": "2021-09-27T05:35:20.628851Z",
     "iopub.status.busy": "2021-09-27T05:35:20.623499Z",
     "iopub.status.idle": "2021-09-27T05:35:20.642966Z",
     "shell.execute_reply": "2021-09-27T05:35:20.642446Z",
     "shell.execute_reply.started": "2021-09-27T05:28:23.356137Z"
    },
    "papermill": {
     "duration": 0.104916,
     "end_time": "2021-09-27T05:35:20.643147",
     "exception": false,
     "start_time": "2021-09-27T05:35:20.538231",
     "status": "completed"
    },
    "tags": []
   },
   "outputs": [
    {
     "data": {
      "text/html": [
       "<div>\n",
       "<style scoped>\n",
       "    .dataframe tbody tr th:only-of-type {\n",
       "        vertical-align: middle;\n",
       "    }\n",
       "\n",
       "    .dataframe tbody tr th {\n",
       "        vertical-align: top;\n",
       "    }\n",
       "\n",
       "    .dataframe thead th {\n",
       "        text-align: right;\n",
       "    }\n",
       "</style>\n",
       "<table border=\"1\" class=\"dataframe\">\n",
       "  <thead>\n",
       "    <tr style=\"text-align: right;\">\n",
       "      <th></th>\n",
       "      <th>customerID</th>\n",
       "      <th>gender</th>\n",
       "      <th>SeniorCitizen</th>\n",
       "      <th>Partner</th>\n",
       "      <th>Dependents</th>\n",
       "      <th>tenure</th>\n",
       "      <th>PhoneService</th>\n",
       "      <th>MultipleLines</th>\n",
       "      <th>InternetService</th>\n",
       "      <th>OnlineSecurity</th>\n",
       "      <th>...</th>\n",
       "      <th>DeviceProtection</th>\n",
       "      <th>TechSupport</th>\n",
       "      <th>StreamingTV</th>\n",
       "      <th>StreamingMovies</th>\n",
       "      <th>Contract</th>\n",
       "      <th>PaperlessBilling</th>\n",
       "      <th>PaymentMethod</th>\n",
       "      <th>MonthlyCharges</th>\n",
       "      <th>TotalCharges</th>\n",
       "      <th>Churn</th>\n",
       "    </tr>\n",
       "  </thead>\n",
       "  <tbody>\n",
       "    <tr>\n",
       "      <th>0</th>\n",
       "      <td>5375</td>\n",
       "      <td>0</td>\n",
       "      <td>0</td>\n",
       "      <td>1</td>\n",
       "      <td>0</td>\n",
       "      <td>1</td>\n",
       "      <td>0</td>\n",
       "      <td>1</td>\n",
       "      <td>0</td>\n",
       "      <td>0</td>\n",
       "      <td>...</td>\n",
       "      <td>0</td>\n",
       "      <td>0</td>\n",
       "      <td>0</td>\n",
       "      <td>0</td>\n",
       "      <td>0</td>\n",
       "      <td>1</td>\n",
       "      <td>2</td>\n",
       "      <td>29.85</td>\n",
       "      <td>29.85</td>\n",
       "      <td>0</td>\n",
       "    </tr>\n",
       "    <tr>\n",
       "      <th>1</th>\n",
       "      <td>3962</td>\n",
       "      <td>1</td>\n",
       "      <td>0</td>\n",
       "      <td>0</td>\n",
       "      <td>0</td>\n",
       "      <td>34</td>\n",
       "      <td>1</td>\n",
       "      <td>0</td>\n",
       "      <td>0</td>\n",
       "      <td>2</td>\n",
       "      <td>...</td>\n",
       "      <td>2</td>\n",
       "      <td>0</td>\n",
       "      <td>0</td>\n",
       "      <td>0</td>\n",
       "      <td>1</td>\n",
       "      <td>0</td>\n",
       "      <td>3</td>\n",
       "      <td>56.95</td>\n",
       "      <td>1889.50</td>\n",
       "      <td>0</td>\n",
       "    </tr>\n",
       "    <tr>\n",
       "      <th>2</th>\n",
       "      <td>2564</td>\n",
       "      <td>1</td>\n",
       "      <td>0</td>\n",
       "      <td>0</td>\n",
       "      <td>0</td>\n",
       "      <td>2</td>\n",
       "      <td>1</td>\n",
       "      <td>0</td>\n",
       "      <td>0</td>\n",
       "      <td>2</td>\n",
       "      <td>...</td>\n",
       "      <td>0</td>\n",
       "      <td>0</td>\n",
       "      <td>0</td>\n",
       "      <td>0</td>\n",
       "      <td>0</td>\n",
       "      <td>1</td>\n",
       "      <td>3</td>\n",
       "      <td>53.85</td>\n",
       "      <td>108.15</td>\n",
       "      <td>1</td>\n",
       "    </tr>\n",
       "    <tr>\n",
       "      <th>3</th>\n",
       "      <td>5535</td>\n",
       "      <td>1</td>\n",
       "      <td>0</td>\n",
       "      <td>0</td>\n",
       "      <td>0</td>\n",
       "      <td>45</td>\n",
       "      <td>0</td>\n",
       "      <td>1</td>\n",
       "      <td>0</td>\n",
       "      <td>2</td>\n",
       "      <td>...</td>\n",
       "      <td>2</td>\n",
       "      <td>2</td>\n",
       "      <td>0</td>\n",
       "      <td>0</td>\n",
       "      <td>1</td>\n",
       "      <td>0</td>\n",
       "      <td>0</td>\n",
       "      <td>42.30</td>\n",
       "      <td>1840.75</td>\n",
       "      <td>0</td>\n",
       "    </tr>\n",
       "    <tr>\n",
       "      <th>4</th>\n",
       "      <td>6511</td>\n",
       "      <td>0</td>\n",
       "      <td>0</td>\n",
       "      <td>0</td>\n",
       "      <td>0</td>\n",
       "      <td>2</td>\n",
       "      <td>1</td>\n",
       "      <td>0</td>\n",
       "      <td>1</td>\n",
       "      <td>0</td>\n",
       "      <td>...</td>\n",
       "      <td>0</td>\n",
       "      <td>0</td>\n",
       "      <td>0</td>\n",
       "      <td>0</td>\n",
       "      <td>0</td>\n",
       "      <td>1</td>\n",
       "      <td>2</td>\n",
       "      <td>70.70</td>\n",
       "      <td>151.65</td>\n",
       "      <td>1</td>\n",
       "    </tr>\n",
       "  </tbody>\n",
       "</table>\n",
       "<p>5 rows × 21 columns</p>\n",
       "</div>"
      ],
      "text/plain": [
       "   customerID  gender  SeniorCitizen  Partner  Dependents  tenure  \\\n",
       "0        5375       0              0        1           0       1   \n",
       "1        3962       1              0        0           0      34   \n",
       "2        2564       1              0        0           0       2   \n",
       "3        5535       1              0        0           0      45   \n",
       "4        6511       0              0        0           0       2   \n",
       "\n",
       "   PhoneService  MultipleLines  InternetService  OnlineSecurity  ...  \\\n",
       "0             0              1                0               0  ...   \n",
       "1             1              0                0               2  ...   \n",
       "2             1              0                0               2  ...   \n",
       "3             0              1                0               2  ...   \n",
       "4             1              0                1               0  ...   \n",
       "\n",
       "   DeviceProtection  TechSupport  StreamingTV  StreamingMovies  Contract  \\\n",
       "0                 0            0            0                0         0   \n",
       "1                 2            0            0                0         1   \n",
       "2                 0            0            0                0         0   \n",
       "3                 2            2            0                0         1   \n",
       "4                 0            0            0                0         0   \n",
       "\n",
       "   PaperlessBilling  PaymentMethod  MonthlyCharges  TotalCharges  Churn  \n",
       "0                 1              2           29.85         29.85      0  \n",
       "1                 0              3           56.95       1889.50      0  \n",
       "2                 1              3           53.85        108.15      1  \n",
       "3                 0              0           42.30       1840.75      0  \n",
       "4                 1              2           70.70        151.65      1  \n",
       "\n",
       "[5 rows x 21 columns]"
      ]
     },
     "execution_count": 400,
     "metadata": {},
     "output_type": "execute_result"
    }
   ],
   "source": [
    "data.head()"
   ]
  },
  {
   "cell_type": "code",
   "execution_count": 401,
   "id": "e99f7e1c",
   "metadata": {
    "execution": {
     "iopub.execute_input": "2021-09-27T05:35:20.803355Z",
     "iopub.status.busy": "2021-09-27T05:35:20.801870Z",
     "iopub.status.idle": "2021-09-27T05:35:20.807684Z",
     "shell.execute_reply": "2021-09-27T05:35:20.807094Z",
     "shell.execute_reply.started": "2021-09-27T05:28:23.381774Z"
    },
    "papermill": {
     "duration": 0.089132,
     "end_time": "2021-09-27T05:35:20.807826",
     "exception": false,
     "start_time": "2021-09-27T05:35:20.718694",
     "status": "completed"
    },
    "tags": []
   },
   "outputs": [
    {
     "name": "stdout",
     "output_type": "stream",
     "text": [
      "      gender  SeniorCitizen  Partner  Dependents  tenure  PhoneService  \\\n",
      "0          0              0        1           0       1             0   \n",
      "1          1              0        0           0      34             1   \n",
      "2          1              0        0           0       2             1   \n",
      "3          1              0        0           0      45             0   \n",
      "4          0              0        0           0       2             1   \n",
      "...      ...            ...      ...         ...     ...           ...   \n",
      "7038       1              0        1           1      24             1   \n",
      "7039       0              0        1           1      72             1   \n",
      "7040       0              0        1           1      11             0   \n",
      "7041       1              1        1           0       4             1   \n",
      "7042       1              0        0           0      66             1   \n",
      "\n",
      "      MultipleLines  InternetService  OnlineSecurity  OnlineBackup  \\\n",
      "0                 1                0               0             2   \n",
      "1                 0                0               2             0   \n",
      "2                 0                0               2             2   \n",
      "3                 1                0               2             0   \n",
      "4                 0                1               0             0   \n",
      "...             ...              ...             ...           ...   \n",
      "7038              2                0               2             0   \n",
      "7039              2                1               0             2   \n",
      "7040              1                0               2             0   \n",
      "7041              2                1               0             0   \n",
      "7042              0                1               2             0   \n",
      "\n",
      "      DeviceProtection  TechSupport  StreamingTV  StreamingMovies  Contract  \\\n",
      "0                    0            0            0                0         0   \n",
      "1                    2            0            0                0         1   \n",
      "2                    0            0            0                0         0   \n",
      "3                    2            2            0                0         1   \n",
      "4                    0            0            0                0         0   \n",
      "...                ...          ...          ...              ...       ...   \n",
      "7038                 2            2            2                2         1   \n",
      "7039                 2            0            2                2         1   \n",
      "7040                 0            0            0                0         0   \n",
      "7041                 0            0            0                0         0   \n",
      "7042                 2            2            2                2         2   \n",
      "\n",
      "      PaperlessBilling  PaymentMethod  MonthlyCharges  TotalCharges  Churn  \n",
      "0                    1              2           29.85         29.85      0  \n",
      "1                    0              3           56.95       1889.50      0  \n",
      "2                    1              3           53.85        108.15      1  \n",
      "3                    0              0           42.30       1840.75      0  \n",
      "4                    1              2           70.70        151.65      1  \n",
      "...                ...            ...             ...           ...    ...  \n",
      "7038                 1              3           84.80       1990.50      0  \n",
      "7039                 1              1          103.20       7362.90      0  \n",
      "7040                 1              2           29.60        346.45      0  \n",
      "7041                 1              3           74.40        306.60      1  \n",
      "7042                 1              0          105.65       6844.50      0  \n",
      "\n",
      "[7043 rows x 20 columns]\n"
     ]
    }
   ],
   "source": [
    "data.drop(columns=['customerID'], inplace=True)\n",
    "print(data);"
   ]
  },
  {
   "cell_type": "code",
   "execution_count": 402,
   "id": "b9a359b0",
   "metadata": {
    "execution": {
     "iopub.execute_input": "2021-09-27T05:35:20.964866Z",
     "iopub.status.busy": "2021-09-27T05:35:20.961095Z",
     "iopub.status.idle": "2021-09-27T05:35:21.332812Z",
     "shell.execute_reply": "2021-09-27T05:35:21.333277Z",
     "shell.execute_reply.started": "2021-09-27T05:28:23.389886Z"
    },
    "papermill": {
     "duration": 0.451342,
     "end_time": "2021-09-27T05:35:21.333458",
     "exception": false,
     "start_time": "2021-09-27T05:35:20.882116",
     "status": "completed"
    },
    "tags": []
   },
   "outputs": [],
   "source": [
    "#Get Correlation of \"Churn\" with other variables:\n",
    "# plt.figure(figsize=(15,8))\n",
    "# data.corr()['Churn'].sort_values(ascending = False).plot(kind='bar')"
   ]
  },
  {
   "cell_type": "code",
   "execution_count": 403,
   "id": "725dd691",
   "metadata": {
    "execution": {
     "iopub.execute_input": "2021-09-27T05:35:21.504929Z",
     "iopub.status.busy": "2021-09-27T05:35:21.503985Z",
     "iopub.status.idle": "2021-09-27T05:35:24.178769Z",
     "shell.execute_reply": "2021-09-27T05:35:24.179300Z",
     "shell.execute_reply.started": "2021-09-27T05:28:23.732552Z"
    },
    "papermill": {
     "duration": 2.764993,
     "end_time": "2021-09-27T05:35:24.179491",
     "exception": false,
     "start_time": "2021-09-27T05:35:21.414498",
     "status": "completed"
    },
    "tags": []
   },
   "outputs": [],
   "source": [
    "# Finding the correlation between the independent and dependent feature\n",
    "# plt.figure(figsize=(20, 9))\n",
    "# sns.heatmap(data.corr(), annot=True)"
   ]
  },
  {
   "cell_type": "markdown",
   "id": "124e6f18",
   "metadata": {
    "papermill": {
     "duration": 0.085972,
     "end_time": "2021-09-27T05:35:24.353407",
     "exception": false,
     "start_time": "2021-09-27T05:35:24.267435",
     "status": "completed"
    },
    "tags": []
   },
   "source": [
    "#### Perform Feature Scaling"
   ]
  },
  {
   "cell_type": "code",
   "execution_count": 404,
   "id": "9a72991e",
   "metadata": {
    "execution": {
     "iopub.execute_input": "2021-09-27T05:35:24.542193Z",
     "iopub.status.busy": "2021-09-27T05:35:24.536411Z",
     "iopub.status.idle": "2021-09-27T05:35:24.555469Z",
     "shell.execute_reply": "2021-09-27T05:35:24.554781Z",
     "shell.execute_reply.started": "2021-09-27T05:28:26.332951Z"
    },
    "papermill": {
     "duration": 0.117371,
     "end_time": "2021-09-27T05:35:24.555625",
     "exception": false,
     "start_time": "2021-09-27T05:35:24.438254",
     "status": "completed"
    },
    "tags": []
   },
   "outputs": [],
   "source": [
    "# using minmaxscaler methods to scale down the value of features between 0 to 1\n",
    "scaler = MinMaxScaler()\n",
    "for feature in numerical_feature:\n",
    "    data[[feature]] = scaler.fit_transform(data[[feature]])"
   ]
  },
  {
   "cell_type": "markdown",
   "id": "a773d841",
   "metadata": {
    "papermill": {
     "duration": 0.085509,
     "end_time": "2021-09-27T05:35:24.725042",
     "exception": false,
     "start_time": "2021-09-27T05:35:24.639533",
     "status": "completed"
    },
    "tags": []
   },
   "source": [
    "#### Splitting the dataset into train and test"
   ]
  },
  {
   "cell_type": "code",
   "execution_count": 405,
   "id": "31754e1e",
   "metadata": {
    "execution": {
     "iopub.execute_input": "2021-09-27T05:35:24.900320Z",
     "iopub.status.busy": "2021-09-27T05:35:24.899589Z",
     "iopub.status.idle": "2021-09-27T05:35:24.902659Z",
     "shell.execute_reply": "2021-09-27T05:35:24.902079Z",
     "shell.execute_reply.started": "2021-09-27T05:28:26.355063Z"
    },
    "papermill": {
     "duration": 0.093648,
     "end_time": "2021-09-27T05:35:24.902806",
     "exception": false,
     "start_time": "2021-09-27T05:35:24.809158",
     "status": "completed"
    },
    "tags": []
   },
   "outputs": [],
   "source": [
    "# splitting dataset into dependent and independent feature\n",
    "X = data.drop(columns='Churn')\n",
    "y = data['Churn']"
   ]
  },
  {
   "cell_type": "markdown",
   "id": "117402c6",
   "metadata": {
    "papermill": {
     "duration": 0.084802,
     "end_time": "2021-09-27T05:35:25.074591",
     "exception": false,
     "start_time": "2021-09-27T05:35:24.989789",
     "status": "completed"
    },
    "tags": []
   },
   "source": [
    "#### Feature Selection:"
   ]
  },
  {
   "cell_type": "code",
   "execution_count": 406,
   "id": "da19d3cf",
   "metadata": {
    "execution": {
     "iopub.execute_input": "2021-09-27T05:35:25.258739Z",
     "iopub.status.busy": "2021-09-27T05:35:25.258025Z",
     "iopub.status.idle": "2021-09-27T05:35:25.268489Z",
     "shell.execute_reply": "2021-09-27T05:35:25.269059Z",
     "shell.execute_reply.started": "2021-09-27T05:28:26.361126Z"
    },
    "papermill": {
     "duration": 0.105969,
     "end_time": "2021-09-27T05:35:25.269290",
     "exception": false,
     "start_time": "2021-09-27T05:35:25.163321",
     "status": "completed"
    },
    "tags": []
   },
   "outputs": [
    {
     "name": "stdout",
     "output_type": "stream",
     "text": [
      "      gender  SeniorCitizen  Partner  Dependents    tenure  PhoneService  \\\n",
      "0          0            0.0        1           0  0.013889             0   \n",
      "1          1            0.0        0           0  0.472222             1   \n",
      "2          1            0.0        0           0  0.027778             1   \n",
      "3          1            0.0        0           0  0.625000             0   \n",
      "4          0            0.0        0           0  0.027778             1   \n",
      "...      ...            ...      ...         ...       ...           ...   \n",
      "7038       1            0.0        1           1  0.333333             1   \n",
      "7039       0            0.0        1           1  1.000000             1   \n",
      "7040       0            0.0        1           1  0.152778             0   \n",
      "7041       1            1.0        1           0  0.055556             1   \n",
      "7042       1            0.0        0           0  0.916667             1   \n",
      "\n",
      "      MultipleLines  InternetService  OnlineSecurity  OnlineBackup  \\\n",
      "0                 1                0               0             2   \n",
      "1                 0                0               2             0   \n",
      "2                 0                0               2             2   \n",
      "3                 1                0               2             0   \n",
      "4                 0                1               0             0   \n",
      "...             ...              ...             ...           ...   \n",
      "7038              2                0               2             0   \n",
      "7039              2                1               0             2   \n",
      "7040              1                0               2             0   \n",
      "7041              2                1               0             0   \n",
      "7042              0                1               2             0   \n",
      "\n",
      "      DeviceProtection  TechSupport  StreamingTV  StreamingMovies  Contract  \\\n",
      "0                    0            0            0                0         0   \n",
      "1                    2            0            0                0         1   \n",
      "2                    0            0            0                0         0   \n",
      "3                    2            2            0                0         1   \n",
      "4                    0            0            0                0         0   \n",
      "...                ...          ...          ...              ...       ...   \n",
      "7038                 2            2            2                2         1   \n",
      "7039                 2            0            2                2         1   \n",
      "7040                 0            0            0                0         0   \n",
      "7041                 0            0            0                0         0   \n",
      "7042                 2            2            2                2         2   \n",
      "\n",
      "      PaperlessBilling  PaymentMethod  MonthlyCharges  TotalCharges  Churn  \n",
      "0                    1              2        0.115423      0.001275      0  \n",
      "1                    0              3        0.385075      0.215867      0  \n",
      "2                    1              3        0.354229      0.010310      1  \n",
      "3                    0              0        0.239303      0.210241      0  \n",
      "4                    1              2        0.521891      0.015330      1  \n",
      "...                ...            ...             ...           ...    ...  \n",
      "7038                 1              3        0.662189      0.227521      0  \n",
      "7039                 1              1        0.845274      0.847461      0  \n",
      "7040                 1              2        0.112935      0.037809      0  \n",
      "7041                 1              3        0.558706      0.033210      1  \n",
      "7042                 1              0        0.869652      0.787641      0  \n",
      "\n",
      "[7043 rows x 20 columns]\n"
     ]
    }
   ],
   "source": [
    "# selects the feature which has more correlation\n",
    "selection = SelectKBest()\n",
    "X = selection.fit_transform(X, y)\n",
    "print(data);"
   ]
  },
  {
   "cell_type": "markdown",
   "id": "1997436f",
   "metadata": {
    "papermill": {
     "duration": 0.087277,
     "end_time": "2021-09-27T05:35:25.446004",
     "exception": false,
     "start_time": "2021-09-27T05:35:25.358727",
     "status": "completed"
    },
    "tags": []
   },
   "source": [
    "##### **From sklearn using feature selection modules importing the SelectKBest to select the important feature**"
   ]
  },
  {
   "cell_type": "code",
   "execution_count": 407,
   "id": "0dc8b77b",
   "metadata": {
    "execution": {
     "iopub.execute_input": "2021-09-27T05:35:25.654556Z",
     "iopub.status.busy": "2021-09-27T05:35:25.650360Z",
     "iopub.status.idle": "2021-09-27T05:35:25.658656Z",
     "shell.execute_reply": "2021-09-27T05:35:25.658032Z",
     "shell.execute_reply.started": "2021-09-27T05:28:26.382486Z"
    },
    "papermill": {
     "duration": 0.10502,
     "end_time": "2021-09-27T05:35:25.658812",
     "exception": false,
     "start_time": "2021-09-27T05:35:25.553792",
     "status": "completed"
    },
    "tags": []
   },
   "outputs": [],
   "source": [
    "# splitting for train and test\n",
    "X_train, X_test, y_train, y_test = train_test_split(X, y, test_size=0.2)"
   ]
  },
  {
   "cell_type": "code",
   "execution_count": 408,
   "id": "7f6adb82",
   "metadata": {
    "execution": {
     "iopub.execute_input": "2021-09-27T05:35:25.838195Z",
     "iopub.status.busy": "2021-09-27T05:35:25.837188Z",
     "iopub.status.idle": "2021-09-27T05:35:25.840670Z",
     "shell.execute_reply": "2021-09-27T05:35:25.841147Z",
     "shell.execute_reply.started": "2021-09-27T05:28:26.390293Z"
    },
    "papermill": {
     "duration": 0.096516,
     "end_time": "2021-09-27T05:35:25.841347",
     "exception": false,
     "start_time": "2021-09-27T05:35:25.744831",
     "status": "completed"
    },
    "tags": []
   },
   "outputs": [
    {
     "data": {
      "text/plain": [
       "0    5174\n",
       "1    1869\n",
       "Name: Churn, dtype: int64"
      ]
     },
     "execution_count": 408,
     "metadata": {},
     "output_type": "execute_result"
    }
   ],
   "source": [
    "# its an imbalance dataset\n",
    "y.value_counts()"
   ]
  },
  {
   "cell_type": "markdown",
   "id": "a7d7e9bd",
   "metadata": {
    "papermill": {
     "duration": 0.085724,
     "end_time": "2021-09-27T05:35:26.012027",
     "exception": false,
     "start_time": "2021-09-27T05:35:25.926303",
     "status": "completed"
    },
    "tags": []
   },
   "source": [
    "#### **Apply into machine learning algorithm:**"
   ]
  },
  {
   "cell_type": "code",
   "execution_count": 409,
   "id": "ab4e63b7",
   "metadata": {
    "execution": {
     "iopub.execute_input": "2021-09-27T05:35:26.185846Z",
     "iopub.status.busy": "2021-09-27T05:35:26.185139Z",
     "iopub.status.idle": "2021-09-27T05:35:26.295192Z",
     "shell.execute_reply": "2021-09-27T05:35:26.296075Z",
     "shell.execute_reply.started": "2021-09-27T05:28:26.403520Z"
    },
    "papermill": {
     "duration": 0.198672,
     "end_time": "2021-09-27T05:35:26.296370",
     "exception": false,
     "start_time": "2021-09-27T05:35:26.097698",
     "status": "completed"
    },
    "tags": []
   },
   "outputs": [
    {
     "name": "stdout",
     "output_type": "stream",
     "text": [
      "Accuracy score : 0.7998580553584103\n",
      "Confusion matrix :\n",
      " [[896 172]\n",
      " [110 231]]\n",
      "Classification report :\n",
      "               precision    recall  f1-score   support\n",
      "\n",
      "           0       0.89      0.84      0.86      1068\n",
      "           1       0.57      0.68      0.62       341\n",
      "\n",
      "    accuracy                           0.80      1409\n",
      "   macro avg       0.73      0.76      0.74      1409\n",
      "weighted avg       0.81      0.80      0.81      1409\n",
      "\n"
     ]
    }
   ],
   "source": [
    "Log_reg = LogisticRegression(C=150, max_iter=150)\n",
    "Log_reg.fit(X_train, y_train)\n",
    "log_pred = Log_reg.predict(X_test)\n",
    "\n",
    "print(f'Accuracy score : {accuracy_score(log_pred, y_test)}')\n",
    "print(f'Confusion matrix :\\n {confusion_matrix(log_pred, y_test)}')\n",
    "print(f'Classification report :\\n {classification_report(log_pred, y_test)}')"
   ]
  },
  {
   "cell_type": "code",
   "execution_count": 410,
   "id": "43163e47",
   "metadata": {
    "execution": {
     "iopub.execute_input": "2021-09-27T05:35:26.515615Z",
     "iopub.status.busy": "2021-09-27T05:35:26.514853Z",
     "iopub.status.idle": "2021-09-27T05:35:27.289529Z",
     "shell.execute_reply": "2021-09-27T05:35:27.288471Z",
     "shell.execute_reply.started": "2021-09-27T05:28:26.486247Z"
    },
    "papermill": {
     "duration": 0.865435,
     "end_time": "2021-09-27T05:35:27.289783",
     "exception": false,
     "start_time": "2021-09-27T05:35:26.424348",
     "status": "completed"
    },
    "tags": []
   },
   "outputs": [
    {
     "name": "stdout",
     "output_type": "stream",
     "text": [
      "Accuracy score : 0.8069552874378992\n",
      "Confusion matrix :\n",
      " [[919 185]\n",
      " [ 87 218]]\n",
      "Classification report :\n",
      "               precision    recall  f1-score   support\n",
      "\n",
      "           0       0.91      0.83      0.87      1104\n",
      "           1       0.54      0.71      0.62       305\n",
      "\n",
      "    accuracy                           0.81      1409\n",
      "   macro avg       0.73      0.77      0.74      1409\n",
      "weighted avg       0.83      0.81      0.82      1409\n",
      "\n"
     ]
    }
   ],
   "source": [
    "# Random forest classifier\n",
    "Rfc = RandomForestClassifier(n_estimators=120,criterion='gini', max_depth=15, min_samples_leaf=10, min_samples_split=5)\n",
    "Rfc.fit(X_train, y_train)\n",
    "rfc_pred = Rfc.predict(X_test)\n",
    "\n",
    "print(f'Accuracy score : {accuracy_score(rfc_pred, y_test)}')\n",
    "print(f'Confusion matrix :\\n {confusion_matrix(rfc_pred, y_test)}')\n",
    "print(f'Classification report :\\n {classification_report(rfc_pred, y_test)}')"
   ]
  },
  {
   "cell_type": "code",
   "execution_count": 411,
   "id": "6a51f6fe",
   "metadata": {
    "execution": {
     "iopub.execute_input": "2021-09-27T05:35:27.475261Z",
     "iopub.status.busy": "2021-09-27T05:35:27.474531Z",
     "iopub.status.idle": "2021-09-27T05:35:27.494790Z",
     "shell.execute_reply": "2021-09-27T05:35:27.495358Z",
     "shell.execute_reply.started": "2021-09-27T05:28:27.228459Z"
    },
    "papermill": {
     "duration": 0.116659,
     "end_time": "2021-09-27T05:35:27.495542",
     "exception": false,
     "start_time": "2021-09-27T05:35:27.378883",
     "status": "completed"
    },
    "tags": []
   },
   "outputs": [
    {
     "name": "stdout",
     "output_type": "stream",
     "text": [
      "Accuracy score : 0.7920511000709723\n",
      "Confusion matrix :\n",
      " [[915 202]\n",
      " [ 91 201]]\n",
      "Classification report :\n",
      "               precision    recall  f1-score   support\n",
      "\n",
      "           0       0.91      0.82      0.86      1117\n",
      "           1       0.50      0.69      0.58       292\n",
      "\n",
      "    accuracy                           0.79      1409\n",
      "   macro avg       0.70      0.75      0.72      1409\n",
      "weighted avg       0.82      0.79      0.80      1409\n",
      "\n"
     ]
    }
   ],
   "source": [
    "# decisionTree Classifier\n",
    "Dtc = DecisionTreeClassifier(criterion='gini', splitter='random', min_samples_leaf=15)\n",
    "Dtc.fit(X_train, y_train)\n",
    "dtc_pred = Dtc.predict(X_test)\n",
    "\n",
    "print(f'Accuracy score : {accuracy_score(dtc_pred, y_test)}')\n",
    "print(f'Confusion matrix :\\n {confusion_matrix(dtc_pred, y_test)}')\n",
    "print(f'Classification report :\\n {classification_report(dtc_pred, y_test)}')"
   ]
  },
  {
   "cell_type": "code",
   "execution_count": 412,
   "id": "747df9ae",
   "metadata": {
    "execution": {
     "iopub.execute_input": "2021-09-27T05:35:27.675926Z",
     "iopub.status.busy": "2021-09-27T05:35:27.675268Z",
     "iopub.status.idle": "2021-09-27T05:35:41.202912Z",
     "shell.execute_reply": "2021-09-27T05:35:41.202312Z",
     "shell.execute_reply.started": "2021-09-27T05:28:27.251789Z"
    },
    "papermill": {
     "duration": 13.617708,
     "end_time": "2021-09-27T05:35:41.203055",
     "exception": false,
     "start_time": "2021-09-27T05:35:27.585347",
     "status": "completed"
    },
    "tags": []
   },
   "outputs": [],
   "source": [
    "# finding the best K value for finding the nearest neighbours\n",
    "BK_value = []\n",
    "for x in range(1, 100):\n",
    "    Knn = KNeighborsClassifier(n_neighbors=x, p=2)\n",
    "    Knn.fit(X_train, y_train)\n",
    "    knn_pred = Knn.predict(X_test)\n",
    "    BK_value.append(np.mean(knn_pred != y_test))"
   ]
  },
  {
   "cell_type": "code",
   "execution_count": 413,
   "id": "963cb3ed",
   "metadata": {
    "execution": {
     "iopub.execute_input": "2021-09-27T05:35:41.445944Z",
     "iopub.status.busy": "2021-09-27T05:35:41.400189Z",
     "iopub.status.idle": "2021-09-27T05:35:41.663831Z",
     "shell.execute_reply": "2021-09-27T05:35:41.664352Z",
     "shell.execute_reply.started": "2021-09-27T05:28:39.976328Z"
    },
    "papermill": {
     "duration": 0.373659,
     "end_time": "2021-09-27T05:35:41.664548",
     "exception": false,
     "start_time": "2021-09-27T05:35:41.290889",
     "status": "completed"
    },
    "tags": []
   },
   "outputs": [
    {
     "data": {
      "image/png": "[encoded data removed]",
      "text/plain": [
       "<Figure size 1080x504 with 1 Axes>"
      ]
     },
     "metadata": {
      "needs_background": "light"
     },
     "output_type": "display_data"
    }
   ],
   "source": [
    "# plot the Kvalue\n",
    "plt.figure(figsize=(15,7))\n",
    "plt.xlabel('K value')\n",
    "plt.ylabel('count')\n",
    "plt.plot(range(1,100), BK_value, marker='*')\n",
    "plt.xticks(range(1,100)[::5])\n",
    "plt.show()"
   ]
  },
  {
   "cell_type": "markdown",
   "id": "29baa610",
   "metadata": {
    "papermill": {
     "duration": 0.090454,
     "end_time": "2021-09-27T05:35:41.844647",
     "exception": false,
     "start_time": "2021-09-27T05:35:41.754193",
     "status": "completed"
    },
    "tags": []
   },
   "source": [
    "**According to this ploting graph we know that Best k value for KNN Classifier is about 64 using Euclidean_distance to reduce the maximum of TN and FN value**"
   ]
  },
  {
   "cell_type": "code",
   "execution_count": 414,
   "id": "7b6b96d0",
   "metadata": {
    "execution": {
     "iopub.execute_input": "2021-09-27T05:35:42.029937Z",
     "iopub.status.busy": "2021-09-27T05:35:42.029251Z",
     "iopub.status.idle": "2021-09-27T05:35:42.195101Z",
     "shell.execute_reply": "2021-09-27T05:35:42.194295Z",
     "shell.execute_reply.started": "2021-09-27T05:28:40.253091Z"
    },
    "papermill": {
     "duration": 0.262041,
     "end_time": "2021-09-27T05:35:42.195372",
     "exception": false,
     "start_time": "2021-09-27T05:35:41.933331",
     "status": "completed"
    },
    "tags": []
   },
   "outputs": [],
   "source": [
    "Knn = KNeighborsClassifier(n_neighbors=64, p=2)\n",
    "Knn.fit(X_train, y_train)\n",
    "knn_pred = Knn.predict(X_test)"
   ]
  },
  {
   "cell_type": "code",
   "execution_count": 415,
   "id": "38fb68e1",
   "metadata": {
    "execution": {
     "iopub.execute_input": "2021-09-27T05:35:42.407854Z",
     "iopub.status.busy": "2021-09-27T05:35:42.406820Z",
     "iopub.status.idle": "2021-09-27T05:35:42.421513Z",
     "shell.execute_reply": "2021-09-27T05:35:42.422439Z",
     "shell.execute_reply.started": "2021-09-27T05:28:40.401809Z"
    },
    "papermill": {
     "duration": 0.122175,
     "end_time": "2021-09-27T05:35:42.422671",
     "exception": false,
     "start_time": "2021-09-27T05:35:42.300496",
     "status": "completed"
    },
    "tags": []
   },
   "outputs": [
    {
     "name": "stdout",
     "output_type": "stream",
     "text": [
      "Accuracy score : 0.7885024840312278\n",
      "Confusion matrix :\n",
      " [[915 207]\n",
      " [ 91 196]]\n",
      "Classification report :\n",
      "               precision    recall  f1-score   support\n",
      "\n",
      "           0       0.91      0.82      0.86      1122\n",
      "           1       0.49      0.68      0.57       287\n",
      "\n",
      "    accuracy                           0.79      1409\n",
      "   macro avg       0.70      0.75      0.71      1409\n",
      "weighted avg       0.82      0.79      0.80      1409\n",
      "\n"
     ]
    }
   ],
   "source": [
    "print(f'Accuracy score : {accuracy_score(knn_pred, y_test)}')\n",
    "print(f'Confusion matrix :\\n {confusion_matrix(knn_pred, y_test)}')\n",
    "print(f'Classification report :\\n {classification_report(knn_pred, y_test)}')"
   ]
  },
  {
   "cell_type": "markdown",
   "id": "805402a1",
   "metadata": {
    "papermill": {
     "duration": 0.090743,
     "end_time": "2021-09-27T05:35:42.611933",
     "exception": false,
     "start_time": "2021-09-27T05:35:42.521190",
     "status": "completed"
    },
    "tags": []
   },
   "source": [
    "**As we compare to the imbalance dataset our model are perform like okay not a better model to build for end to end project. So we need to over smpling data for reducing the TN, FN and increase the FP and TP for model building**"
   ]
  },
  {
   "cell_type": "markdown",
   "id": "1223579a",
   "metadata": {
    "papermill": {
     "duration": 0.088524,
     "end_time": "2021-09-27T05:35:42.791077",
     "exception": false,
     "start_time": "2021-09-27T05:35:42.702553",
     "status": "completed"
    },
    "tags": []
   },
   "source": [
    "#### **Using SMOTEENN for imbalance dataset:**\n",
    "     Over-sampling using SMOTE and cleaning using ENN. Combine over- and under-sampling using SMOTE and Edited Nearest Neighbours"
   ]
  },
  {
   "cell_type": "code",
   "execution_count": 416,
   "id": "6d5cbdbe",
   "metadata": {
    "execution": {
     "iopub.execute_input": "2021-09-27T05:35:42.973646Z",
     "iopub.status.busy": "2021-09-27T05:35:42.972965Z",
     "iopub.status.idle": "2021-09-27T05:35:43.290078Z",
     "shell.execute_reply": "2021-09-27T05:35:43.290934Z",
     "shell.execute_reply.started": "2021-09-27T05:28:40.419780Z"
    },
    "papermill": {
     "duration": 0.409331,
     "end_time": "2021-09-27T05:35:43.291124",
     "exception": false,
     "start_time": "2021-09-27T05:35:42.881793",
     "status": "completed"
    },
    "tags": []
   },
   "outputs": [
    {
     "name": "stdout",
     "output_type": "stream",
     "text": [
      "The number of classes before fit Counter({0: 4168, 1: 1466})\n",
      "The number of classes after fit Counter({0: 2470, 1: 2409})\n"
     ]
    }
   ],
   "source": [
    "st=SMOTEENN()\n",
    "X_train_st,y_train_st = st.fit_resample(X_train, y_train)\n",
    "print(\"The number of classes before fit {}\".format(Counter(y_train)))\n",
    "print(\"The number of classes after fit {}\".format(Counter(y_train_st)))"
   ]
  },
  {
   "cell_type": "code",
   "execution_count": 417,
   "id": "ce6b2508",
   "metadata": {
    "execution": {
     "iopub.execute_input": "2021-09-27T05:35:43.473547Z",
     "iopub.status.busy": "2021-09-27T05:35:43.472884Z",
     "iopub.status.idle": "2021-09-27T05:35:43.476079Z",
     "shell.execute_reply": "2021-09-27T05:35:43.476584Z",
     "shell.execute_reply.started": "2021-09-27T05:28:40.732949Z"
    },
    "papermill": {
     "duration": 0.098296,
     "end_time": "2021-09-27T05:35:43.476759",
     "exception": false,
     "start_time": "2021-09-27T05:35:43.378463",
     "status": "completed"
    },
    "tags": []
   },
   "outputs": [],
   "source": [
    "# splitting the over sampling dataset \n",
    "X_train_sap, X_test_sap, y_train_sap, y_test_sap = train_test_split(X_train_st, y_train_st, test_size=0.2)"
   ]
  },
  {
   "cell_type": "code",
   "execution_count": 418,
   "id": "50e7f15d",
   "metadata": {
    "execution": {
     "iopub.execute_input": "2021-09-27T05:35:43.665262Z",
     "iopub.status.busy": "2021-09-27T05:35:43.664276Z",
     "iopub.status.idle": "2021-09-27T05:35:43.688781Z",
     "shell.execute_reply": "2021-09-27T05:35:43.689294Z",
     "shell.execute_reply.started": "2021-09-27T05:28:40.740466Z"
    },
    "papermill": {
     "duration": 0.118473,
     "end_time": "2021-09-27T05:35:43.689468",
     "exception": false,
     "start_time": "2021-09-27T05:35:43.570995",
     "status": "completed"
    },
    "tags": []
   },
   "outputs": [
    {
     "name": "stdout",
     "output_type": "stream",
     "text": [
      "Accuracy score : 0.9334016393442623\n",
      "Confusion matrix :\n",
      " [[447  29]\n",
      " [ 36 464]]\n",
      "Classification report :\n",
      "               precision    recall  f1-score   support\n",
      "\n",
      "           0       0.93      0.94      0.93       476\n",
      "           1       0.94      0.93      0.93       500\n",
      "\n",
      "    accuracy                           0.93       976\n",
      "   macro avg       0.93      0.93      0.93       976\n",
      "weighted avg       0.93      0.93      0.93       976\n",
      "\n"
     ]
    }
   ],
   "source": [
    "# decisionTree Classifier\n",
    "Dtc_sampling = DecisionTreeClassifier(criterion = \"gini\",random_state = 100,max_depth=7, min_samples_leaf=15)\n",
    "Dtc_sampling.fit(X_train_sap, y_train_sap)\n",
    "dtc_sampling_pred = Dtc_sampling.predict(X_test_sap)\n",
    "\n",
    "print(f'Accuracy score : {accuracy_score(dtc_sampling_pred, y_test_sap)}')\n",
    "print(f'Confusion matrix :\\n {confusion_matrix(dtc_sampling_pred, y_test_sap)}')\n",
    "print(f'Classification report :\\n {classification_report(dtc_sampling_pred, y_test_sap)}')"
   ]
  },
  {
   "cell_type": "code",
   "execution_count": 419,
   "id": "be9f4a12",
   "metadata": {
    "execution": {
     "iopub.execute_input": "2021-09-27T05:35:43.869289Z",
     "iopub.status.busy": "2021-09-27T05:35:43.868116Z",
     "iopub.status.idle": "2021-09-27T05:35:44.537366Z",
     "shell.execute_reply": "2021-09-27T05:35:44.537978Z",
     "shell.execute_reply.started": "2021-09-27T05:28:40.769409Z"
    },
    "papermill": {
     "duration": 0.760963,
     "end_time": "2021-09-27T05:35:44.538172",
     "exception": false,
     "start_time": "2021-09-27T05:35:43.777209",
     "status": "completed"
    },
    "tags": []
   },
   "outputs": [
    {
     "name": "stdout",
     "output_type": "stream",
     "text": [
      "Accuracy score : 0.9456967213114754\n",
      "Confusion matrix :\n",
      " [[454  24]\n",
      " [ 29 469]]\n",
      "Classification report :\n",
      "               precision    recall  f1-score   support\n",
      "\n",
      "           0       0.94      0.95      0.94       478\n",
      "           1       0.95      0.94      0.95       498\n",
      "\n",
      "    accuracy                           0.95       976\n",
      "   macro avg       0.95      0.95      0.95       976\n",
      "weighted avg       0.95      0.95      0.95       976\n",
      "\n"
     ]
    }
   ],
   "source": [
    "# Random forest classifier\n",
    "Rfc_sampling = RandomForestClassifier(n_estimators=150,criterion='gini', max_depth=15, min_samples_leaf=10, min_samples_split=6)\n",
    "Rfc_sampling.fit(X_train_sap, y_train_sap)\n",
    "rfc_sampling_pred = Rfc_sampling.predict(X_test_sap)\n",
    "\n",
    "print(f'Accuracy score : {accuracy_score(rfc_sampling_pred, y_test_sap)}')\n",
    "print(f'Confusion matrix :\\n {confusion_matrix(rfc_sampling_pred, y_test_sap)}')\n",
    "print(f'Classification report :\\n {classification_report(rfc_sampling_pred, y_test_sap)}')"
   ]
  },
  {
   "cell_type": "code",
   "execution_count": 420,
   "id": "dff8b499",
   "metadata": {
    "execution": {
     "iopub.execute_input": "2021-09-27T05:35:44.730400Z",
     "iopub.status.busy": "2021-09-27T05:35:44.722062Z",
     "iopub.status.idle": "2021-09-27T05:35:44.790861Z",
     "shell.execute_reply": "2021-09-27T05:35:44.792559Z",
     "shell.execute_reply.started": "2021-09-27T05:28:41.401620Z"
    },
    "papermill": {
     "duration": 0.166572,
     "end_time": "2021-09-27T05:35:44.792893",
     "exception": false,
     "start_time": "2021-09-27T05:35:44.626321",
     "status": "completed"
    },
    "tags": []
   },
   "outputs": [
    {
     "name": "stdout",
     "output_type": "stream",
     "text": [
      "Accuracy score : 0.9170081967213115\n",
      "Confusion matrix :\n",
      " [[434  32]\n",
      " [ 49 461]]\n",
      "Classification report :\n",
      "               precision    recall  f1-score   support\n",
      "\n",
      "           0       0.90      0.93      0.91       466\n",
      "           1       0.94      0.90      0.92       510\n",
      "\n",
      "    accuracy                           0.92       976\n",
      "   macro avg       0.92      0.92      0.92       976\n",
      "weighted avg       0.92      0.92      0.92       976\n",
      "\n"
     ]
    }
   ],
   "source": [
    "# logistic regression\n",
    "Log_reg_sampling = LogisticRegression(C=10, max_iter=150)\n",
    "Log_reg_sampling.fit(X_train_sap, y_train_sap)\n",
    "Log_sampling_pred = Log_reg_sampling.predict(X_test_sap)\n",
    "\n",
    "print(f'Accuracy score : {accuracy_score(Log_sampling_pred, y_test_sap)}')\n",
    "print(f'Confusion matrix :\\n {confusion_matrix(Log_sampling_pred, y_test_sap)}')\n",
    "print(f'Classification report :\\n {classification_report(Log_sampling_pred, y_test_sap)}')"
   ]
  },
  {
   "cell_type": "code",
   "execution_count": 421,
   "id": "f3860bee",
   "metadata": {
    "execution": {
     "iopub.execute_input": "2021-09-27T05:35:45.024122Z",
     "iopub.status.busy": "2021-09-27T05:35:45.023004Z",
     "iopub.status.idle": "2021-09-27T05:35:45.104961Z",
     "shell.execute_reply": "2021-09-27T05:35:45.104361Z",
     "shell.execute_reply.started": "2021-09-27T05:28:41.468884Z"
    },
    "papermill": {
     "duration": 0.178555,
     "end_time": "2021-09-27T05:35:45.105105",
     "exception": false,
     "start_time": "2021-09-27T05:35:44.926550",
     "status": "completed"
    },
    "tags": []
   },
   "outputs": [
    {
     "name": "stdout",
     "output_type": "stream",
     "text": [
      "Accuracy score : 0.9610655737704918\n",
      "Confusion matrix :\n",
      " [[461  16]\n",
      " [ 22 477]]\n",
      "Classification report :\n",
      "               precision    recall  f1-score   support\n",
      "\n",
      "           0       0.95      0.97      0.96       477\n",
      "           1       0.97      0.96      0.96       499\n",
      "\n",
      "    accuracy                           0.96       976\n",
      "   macro avg       0.96      0.96      0.96       976\n",
      "weighted avg       0.96      0.96      0.96       976\n",
      "\n"
     ]
    }
   ],
   "source": [
    "# KNN classifier algorithm\n",
    "Knn_sampling = KNeighborsClassifier(n_neighbors=3, p=2)  # using Euclidean_distance\n",
    "Knn_sampling.fit(X_train_sap, y_train_sap)\n",
    "knn_sampling_pred = Knn_sampling.predict(X_test_sap)\n",
    "\n",
    "print(f'Accuracy score : {accuracy_score(knn_sampling_pred, y_test_sap)}')\n",
    "print(f'Confusion matrix :\\n {confusion_matrix(knn_sampling_pred, y_test_sap)}')\n",
    "print(f'Classification report :\\n {classification_report(knn_sampling_pred, y_test_sap)}')"
   ]
  },
  {
   "cell_type": "markdown",
   "id": "d205c588",
   "metadata": {
    "papermill": {
     "duration": 0.091327,
     "end_time": "2021-09-27T05:35:45.288153",
     "exception": false,
     "start_time": "2021-09-27T05:35:45.196826",
     "status": "completed"
    },
    "tags": []
   },
   "source": [
    "**After Oversampling the dataset our model performs is pretty good. From our 4 model KNN classifier performs better than all.**"
   ]
  }
 ],
 "metadata": {
  "kernelspec": {
   "display_name": "Python 3",
   "language": "python",
   "name": "python3"
  },
  "language_info": {
   "codemirror_mode": {
    "name": "ipython",
    "version": 3
   },
   "file_extension": ".py",
   "mimetype": "text/x-python",
   "name": "python",
   "nbconvert_exporter": "python",
   "pygments_lexer": "ipython3",
   "version": "3.7.10"
  },
  "papermill": {
   "default_parameters": {},
   "duration": 52.969836,
   "end_time": "2021-09-27T05:35:47.085083",
   "environment_variables": {},
   "exception": null,
   "input_path": "__notebook__.ipynb",
   "output_path": "__notebook__.ipynb",
   "parameters": {},
   "start_time": "2021-09-27T05:34:54.115247",
   "version": "2.3.3"
  }
 },
 "nbformat": 4,
 "nbformat_minor": 5
}
